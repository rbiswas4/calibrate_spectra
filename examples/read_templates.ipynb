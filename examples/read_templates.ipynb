{
 "metadata": {
  "name": "",
  "signature": "sha256:be1571eda1f646d16478894ecae5ff64fd306013a3823d14d5ba2a46c03b060f"
 },
 "nbformat": 3,
 "nbformat_minor": 0,
 "worksheets": [
  {
   "cells": [
    {
     "cell_type": "code",
     "collapsed": false,
     "input": [
      "import numpy as np\n",
      "%matplotlib inline\n",
      "import matplotlib.pyplot as plt"
     ],
     "language": "python",
     "metadata": {},
     "outputs": [],
     "prompt_number": 1
    },
    {
     "cell_type": "code",
     "collapsed": false,
     "input": [
      "import sncosmo"
     ],
     "language": "python",
     "metadata": {},
     "outputs": [],
     "prompt_number": 2
    },
    {
     "cell_type": "code",
     "collapsed": false,
     "input": [
      "import glob"
     ],
     "language": "python",
     "metadata": {},
     "outputs": [],
     "prompt_number": 3
    },
    {
     "cell_type": "code",
     "collapsed": false,
     "input": [
      "class TransientObject(object):\n",
      "    \n",
      "    def __init__(self, spectral_data, matched_spectra, days, data_fnames=None, mangled_fnames=None):\n",
      "        \"\"\"\n",
      "        Constructor\n",
      "        \n",
      "        Parameters\n",
      "        ----------\n",
      "        spectral_data: list of 2-D `np.ndarray` of floats\n",
      "            list of all the spectral data available corresponding to the object.\n",
      "            Each `np.ndarray` has columns of wavelength and specific flux in units\n",
      "            of Ang and arbitrary units respectively\n",
      "        matched_spectra: list of 2-D `np.ndarray` of floats \n",
      "            list of all of the 'mangled' spectral data matched to the photometry of\n",
      "            the transient object, in the form of 2-D `np.ndarray`. The list of arrays\n",
      "            is indexed identically to the `spectral data`. Each `np.ndarray` has columns\n",
      "            wavelength in units of Ang, and specific flux ($f_\\lambda$) in units of \n",
      "            ergs/cm^2/s/Ang. It is assumed that the e\n",
      "        days: `np.ndarray` of floats\n",
      "            days on which the spectral_data were taken in the same \n",
      "        \n",
      "        Returns\n",
      "        -------\n",
      "        instance of TransientObject class\n",
      "        \n",
      "        \n",
      "        .. note :: 1. the wavelength gridding of the `mangled` matched spectra should \n",
      "        be identical, and may differ from the wavelength gridding of the spectral_data\n",
      "        of the object from which it was constructed. 2. The wavelengths in the matched\n",
      "        spectra are assumed to be in increasing order.\n",
      "        \"\"\"\n",
      "        \n",
      "        self.sortOrder = np.argsort(days)\n",
      "        self.data_fnames = data_fnames[self.sortOrder]\n",
      "        self.mangled_fnames = mangled_fnames[self.sortOrder]\n",
      "        self.spectral_data = np.array(spectral_data)[self.sortOrder]\n",
      "        self.mangled_spectra = np.array(matched_spectra)[self.sortOrder]\n",
      "        self.mjds = np.array(days)[self.sortOrder]\n",
      "        \n",
      "        self.validateWavelengths()\n",
      "        \n",
      "        \n",
      "    @classmethod\n",
      "    def fromDataDir(cls, spectralDataDir):\n",
      "        \"\"\"\n",
      "        \"\"\"\n",
      "        import glob\n",
      "\n",
      "        \n",
      "        spectralDataFname = np.array(glob.glob(spectralDataDir + '/*.dat'))\n",
      "        mangledDataFname = np.array(glob.glob(spectralDataDir + '/*mangled.txt'))\n",
      "            \n",
      "        spectral_data = map(lambda x: np.loadtxt(x, skiprows=2), spectralDataFname) \n",
      "        matched_spectra = map(lambda x: np.loadtxt(x, skiprows=2), mangledDataFname)\n",
      "        days = map(cls.parse_mjds, mangledDataFname)\n",
      "        \n",
      "        \n",
      "            \n",
      "        return cls(spectral_data=spectral_data, matched_spectra=matched_spectra, days=days,\n",
      "                   data_fnames=spectralDataFname, mangled_fnames=mangledDataFname) \n",
      "            \n",
      "    @staticmethod    \n",
      "    def parse_mjds(mangledSpectraFileName):\n",
      "        \"\"\"\n",
      "        \n",
      "        \"\"\"\n",
      "        s = mangledSpectraFileName.split('_mangled')[0]\n",
      "        day = s.split('_')[-1]\n",
      "        return float(day)\n",
      "    \n",
      "    def validateWavelengths(self, verbose=False):\n",
      "        \"\"\"\n",
      "        Check that the wavelength grid of the `self.matched_spectra\n",
      "        are identical to each other and that the wavelengths are\n",
      "        in increasing order\n",
      "        \"\"\"\n",
      "        firstwave = self.mangled_spectra[0][:, 0]\n",
      "        \n",
      "        for i, mangledSpectra in enumerate(self.mangled_spectra):    \n",
      "            wave = mangledSpectra[:, 0]\n",
      "            if len(wave) != len(firstwave):\n",
      "                print \"Different lengths for \", 0, i\n",
      "            elif not np.allclose(wave, firstwave):\n",
      "                print 'Different values for ', 0, i\n",
      "            else:\n",
      "                if verbose:\n",
      "                    print '0 ', i , ' match!'"
     ],
     "language": "python",
     "metadata": {},
     "outputs": [],
     "prompt_number": 68
    },
    {
     "cell_type": "code",
     "collapsed": false,
     "input": [
      "location = '/Users/rbiswas/soft/core_collapse_templates/data/2007uy/cfa_2007uy'"
     ],
     "language": "python",
     "metadata": {},
     "outputs": [],
     "prompt_number": 8
    },
    {
     "cell_type": "code",
     "collapsed": false,
     "input": [
      "t  = TransientObject.fromDataDir(location)"
     ],
     "language": "python",
     "metadata": {},
     "outputs": [],
     "prompt_number": 66
    },
    {
     "cell_type": "code",
     "collapsed": false,
     "input": [
      "t.mjds[np.argsort(t.mjds)]"
     ],
     "language": "python",
     "metadata": {},
     "outputs": [
      {
       "metadata": {},
       "output_type": "pyout",
       "prompt_number": 67,
       "text": [
        "array([  0.     ,   1.9861 ,   6.95134,   7.94439,   9.93049,  25.8193 ,\n",
        "        58.5899 ,  67.5273 ,  88.3813 ])"
       ]
      }
     ],
     "prompt_number": 67
    },
    {
     "cell_type": "code",
     "collapsed": false,
     "input": [
      "t.validateWavelengths()"
     ],
     "language": "python",
     "metadata": {},
     "outputs": [
      {
       "output_type": "stream",
       "stream": "stdout",
       "text": [
        "0  0  match!\n",
        "0  1  match!\n",
        "0  2  match!\n",
        "0  3  match!\n",
        "0  4  match!\n",
        "0  5  match!\n",
        "0  6  match!\n",
        "0  7  match!\n",
        "0  8  match!\n"
       ]
      }
     ],
     "prompt_number": 21
    },
    {
     "cell_type": "code",
     "collapsed": false,
     "input": [],
     "language": "python",
     "metadata": {},
     "outputs": []
    },
    {
     "cell_type": "code",
     "collapsed": false,
     "input": [
      "import sncosmo"
     ],
     "language": "python",
     "metadata": {},
     "outputs": [],
     "prompt_number": 22
    },
    {
     "cell_type": "code",
     "collapsed": false,
     "input": [
      "t.mangled_fnames"
     ],
     "language": "python",
     "metadata": {},
     "outputs": [
      {
       "metadata": {},
       "output_type": "pyout",
       "prompt_number": 60,
       "text": [
        "array([ '/Users/rbiswas/soft/core_collapse_templates/data/2007uy/cfa_2007uy/cfa_2007uy_MJD0_mangled.txt',\n",
        "       '/Users/rbiswas/soft/core_collapse_templates/data/2007uy/cfa_2007uy/cfa_2007uy_MJD1.9861_mangled.txt',\n",
        "       '/Users/rbiswas/soft/core_collapse_templates/data/2007uy/cfa_2007uy/cfa_2007uy_MJD6.95134_mangled.txt',\n",
        "       '/Users/rbiswas/soft/core_collapse_templates/data/2007uy/cfa_2007uy/cfa_2007uy_MJD7.94439_mangled.txt',\n",
        "       '/Users/rbiswas/soft/core_collapse_templates/data/2007uy/cfa_2007uy/cfa_2007uy_MJD9.93049_mangled.txt',\n",
        "       '/Users/rbiswas/soft/core_collapse_templates/data/2007uy/cfa_2007uy/cfa_2007uy_MJD25.8193_mangled.txt',\n",
        "       '/Users/rbiswas/soft/core_collapse_templates/data/2007uy/cfa_2007uy/cfa_2007uy_MJD58.5899_mangled.txt',\n",
        "       '/Users/rbiswas/soft/core_collapse_templates/data/2007uy/cfa_2007uy/cfa_2007uy_MJD67.5273_mangled.txt',\n",
        "       '/Users/rbiswas/soft/core_collapse_templates/data/2007uy/cfa_2007uy/cfa_2007uy_MJD88.3813_mangled.txt',\n",
        "       '/Users/rbiswas/soft/core_collapse_templates/data/2007uy/cfa_2007uy/cfa_2007uy_MJD153.923_mangled.txt'], \n",
        "      dtype='|S100')"
       ]
      }
     ],
     "prompt_number": 60
    },
    {
     "cell_type": "code",
     "collapsed": false,
     "input": [
      "fluxarray = np.zeros(shape=(len(t.mjds), len(t.mangled_spectra[0])))\n",
      "for i, fluxdata in enumerate(t.mangled_spectra):\n",
      "    fluxarray[i]= fluxdata[:, 1]"
     ],
     "language": "python",
     "metadata": {},
     "outputs": [],
     "prompt_number": 29
    },
    {
     "cell_type": "code",
     "collapsed": false,
     "input": [
      "np.shape(fluxarray)"
     ],
     "language": "python",
     "metadata": {},
     "outputs": [
      {
       "metadata": {},
       "output_type": "pyout",
       "prompt_number": 31,
       "text": [
        "(9, 2683)"
       ]
      }
     ],
     "prompt_number": 31
    },
    {
     "cell_type": "code",
     "collapsed": false,
     "input": [
      "for i in range(len(fluxarray)):\n",
      "    plt.plot(t.mangled_spectra[0][:, 0], fluxarray[i])"
     ],
     "language": "python",
     "metadata": {},
     "outputs": [
      {
       "metadata": {},
       "output_type": "display_data",
       "png": "[encoded data removed]",
       "text": [
        "<matplotlib.figure.Figure at 0x108fce1d0>"
       ]
      }
     ],
     "prompt_number": 43
    },
    {
     "cell_type": "code",
     "collapsed": false,
     "input": [
      "len(fluxarray[0])"
     ],
     "language": "python",
     "metadata": {},
     "outputs": [
      {
       "metadata": {},
       "output_type": "pyout",
       "prompt_number": 38,
       "text": [
        "2683"
       ]
      }
     ],
     "prompt_number": 38
    },
    {
     "cell_type": "code",
     "collapsed": false,
     "input": [
      "len(t.mangled_spectra[0])"
     ],
     "language": "python",
     "metadata": {},
     "outputs": [
      {
       "metadata": {},
       "output_type": "pyout",
       "prompt_number": 40,
       "text": [
        "2683"
       ]
      }
     ],
     "prompt_number": 40
    },
    {
     "cell_type": "code",
     "collapsed": false,
     "input": [
      "np.all(np.diff(t.mangled_spectra[0][:, 0]) > 0)"
     ],
     "language": "python",
     "metadata": {},
     "outputs": [
      {
       "metadata": {},
       "output_type": "pyout",
       "prompt_number": 49,
       "text": [
        "True"
       ]
      }
     ],
     "prompt_number": 49
    },
    {
     "cell_type": "code",
     "collapsed": false,
     "input": [
      "t.mjds - t.mjds[0]"
     ],
     "language": "python",
     "metadata": {},
     "outputs": [
      {
       "metadata": {},
       "output_type": "pyout",
       "prompt_number": 44,
       "text": [
        "array([  0.     ,   1.9861 ,   6.95134,   7.94439,   9.93049,  25.8193 ,\n",
        "        58.5899 ,  67.5273 ,  88.3813 ])"
       ]
      }
     ],
     "prompt_number": 44
    },
    {
     "cell_type": "code",
     "collapsed": false,
     "input": [
      "ts = sncosmo.TimeSeriesSource(phase=t.mjds - peak, wave=t.mangled_spectra[0][:, 0], flux=fluxarray)"
     ],
     "language": "python",
     "metadata": {},
     "outputs": [],
     "prompt_number": 59
    },
    {
     "cell_type": "code",
     "collapsed": false,
     "input": [
      "peak = ts.peakphase('bessellB')"
     ],
     "language": "python",
     "metadata": {},
     "outputs": [],
     "prompt_number": 60
    },
    {
     "cell_type": "code",
     "collapsed": false,
     "input": [
      "peak"
     ],
     "language": "python",
     "metadata": {},
     "outputs": [
      {
       "metadata": {},
       "output_type": "pyout",
       "prompt_number": 61,
       "text": [
        "-1.4702144268534133e-14"
       ]
      }
     ],
     "prompt_number": 61
    },
    {
     "cell_type": "code",
     "collapsed": false,
     "input": [
      "model = sncosmo.Model(source=ts)"
     ],
     "language": "python",
     "metadata": {},
     "outputs": [],
     "prompt_number": 62
    },
    {
     "cell_type": "code",
     "collapsed": false,
     "input": [
      "model.set(z=0.07)"
     ],
     "language": "python",
     "metadata": {},
     "outputs": [],
     "prompt_number": 63
    },
    {
     "cell_type": "code",
     "collapsed": false,
     "input": [
      "print model"
     ],
     "language": "python",
     "metadata": {},
     "outputs": [
      {
       "output_type": "stream",
       "stream": "stdout",
       "text": [
        "<Model at 0x10937e5d0>\n",
        "source:\n",
        "  class      : TimeSeriesSource\n",
        "  name       : None\n",
        "  version    : None\n",
        "  phases     : [-9.55778, .., 78.8235] days\n",
        "  wavelengths: [3454.82, .., 7369.95] Angstroms\n",
        "parameters:\n",
        "  z         = 0.070000000000000007\n",
        "  t0        = 0.0\n",
        "  amplitude = 1.0\n"
       ]
      }
     ],
     "prompt_number": 64
    },
    {
     "cell_type": "code",
     "collapsed": false,
     "input": [],
     "language": "python",
     "metadata": {},
     "outputs": []
    }
   ],
   "metadata": {}
  }
 ]
}