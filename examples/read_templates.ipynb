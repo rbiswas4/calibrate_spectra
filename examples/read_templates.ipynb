{
 "metadata": {
  "name": "",
  "signature": "sha256:55167b4c7a9ba06afdbdaa349e094fbcc08df2af6b2e08edc60fe2ee750f9d2b"
 },
 "nbformat": 3,
 "nbformat_minor": 0,
 "worksheets": [
  {
   "cells": [
    {
     "cell_type": "code",
     "collapsed": false,
     "input": [
      "import numpy as np\n",
      "%matplotlib inline\n",
      "import matplotlib.pyplot as plt"
     ],
     "language": "python",
     "metadata": {},
     "outputs": [],
     "prompt_number": 1
    },
    {
     "cell_type": "code",
     "collapsed": false,
     "input": [
      "import sncosmo"
     ],
     "language": "python",
     "metadata": {},
     "outputs": [],
     "prompt_number": 2
    },
    {
     "cell_type": "code",
     "collapsed": false,
     "input": [
      "import glob"
     ],
     "language": "python",
     "metadata": {},
     "outputs": [],
     "prompt_number": 3
    },
    {
     "cell_type": "code",
     "collapsed": false,
     "input": [
      "location = '/Users/rbiswas/soft/core_collapse_templates/data/2007uy/cfa_2007uy'"
     ],
     "language": "python",
     "metadata": {},
     "outputs": [],
     "prompt_number": 7
    },
    {
     "cell_type": "code",
     "collapsed": false,
     "input": [
      "mangled_spectra = glob.glob(location +'/*mangled.txt')"
     ],
     "language": "python",
     "metadata": {},
     "outputs": [],
     "prompt_number": 10
    },
    {
     "cell_type": "code",
     "collapsed": false,
     "input": [
      "print mangled_spectra"
     ],
     "language": "python",
     "metadata": {},
     "outputs": [
      {
       "output_type": "stream",
       "stream": "stdout",
       "text": [
        "['/Users/rbiswas/soft/core_collapse_templates/data/2007uy/cfa_2007uy/cfa_2007uy_MJD0_mangled.txt', '/Users/rbiswas/soft/core_collapse_templates/data/2007uy/cfa_2007uy/cfa_2007uy_MJD1.9861_mangled.txt', '/Users/rbiswas/soft/core_collapse_templates/data/2007uy/cfa_2007uy/cfa_2007uy_MJD153.923_mangled.txt', '/Users/rbiswas/soft/core_collapse_templates/data/2007uy/cfa_2007uy/cfa_2007uy_MJD25.8193_mangled.txt', '/Users/rbiswas/soft/core_collapse_templates/data/2007uy/cfa_2007uy/cfa_2007uy_MJD58.5899_mangled.txt', '/Users/rbiswas/soft/core_collapse_templates/data/2007uy/cfa_2007uy/cfa_2007uy_MJD6.95134_mangled.txt', '/Users/rbiswas/soft/core_collapse_templates/data/2007uy/cfa_2007uy/cfa_2007uy_MJD67.5273_mangled.txt', '/Users/rbiswas/soft/core_collapse_templates/data/2007uy/cfa_2007uy/cfa_2007uy_MJD7.94439_mangled.txt', '/Users/rbiswas/soft/core_collapse_templates/data/2007uy/cfa_2007uy/cfa_2007uy_MJD88.3813_mangled.txt', '/Users/rbiswas/soft/core_collapse_templates/data/2007uy/cfa_2007uy/cfa_2007uy_MJD9.93049_mangled.txt']\n"
       ]
      }
     ],
     "prompt_number": 9
    },
    {
     "cell_type": "code",
     "collapsed": false,
     "input": [
      "spectral_data = glob.glob(location + '/*.dat')"
     ],
     "language": "python",
     "metadata": {},
     "outputs": [],
     "prompt_number": 13
    },
    {
     "cell_type": "code",
     "collapsed": false,
     "input": [
      "spectral_data"
     ],
     "language": "python",
     "metadata": {},
     "outputs": [
      {
       "metadata": {},
       "output_type": "pyout",
       "prompt_number": 14,
       "text": [
        "['/Users/rbiswas/soft/core_collapse_templates/data/2007uy/cfa_2007uy/cfa_2007uy_MJD54468.dat',\n",
        " '/Users/rbiswas/soft/core_collapse_templates/data/2007uy/cfa_2007uy/cfa_2007uy_MJD54470.dat',\n",
        " '/Users/rbiswas/soft/core_collapse_templates/data/2007uy/cfa_2007uy/cfa_2007uy_MJD54475.dat',\n",
        " '/Users/rbiswas/soft/core_collapse_templates/data/2007uy/cfa_2007uy/cfa_2007uy_MJD54476.dat',\n",
        " '/Users/rbiswas/soft/core_collapse_templates/data/2007uy/cfa_2007uy/cfa_2007uy_MJD54478.dat',\n",
        " '/Users/rbiswas/soft/core_collapse_templates/data/2007uy/cfa_2007uy/cfa_2007uy_MJD54494.dat',\n",
        " '/Users/rbiswas/soft/core_collapse_templates/data/2007uy/cfa_2007uy/cfa_2007uy_MJD54527.dat',\n",
        " '/Users/rbiswas/soft/core_collapse_templates/data/2007uy/cfa_2007uy/cfa_2007uy_MJD54536.dat',\n",
        " '/Users/rbiswas/soft/core_collapse_templates/data/2007uy/cfa_2007uy/cfa_2007uy_MJD54557.dat',\n",
        " '/Users/rbiswas/soft/core_collapse_templates/data/2007uy/cfa_2007uy/cfa_2007uy_MJD54623.dat']"
       ]
      }
     ],
     "prompt_number": 14
    },
    {
     "cell_type": "code",
     "collapsed": false,
     "input": [
      "data = np.loadtxt(spectral_data[0])"
     ],
     "language": "python",
     "metadata": {},
     "outputs": [],
     "prompt_number": 15
    },
    {
     "cell_type": "code",
     "collapsed": false,
     "input": [
      "plt.plot(data[:, 0], data[:, 1])"
     ],
     "language": "python",
     "metadata": {},
     "outputs": [
      {
       "metadata": {},
       "output_type": "pyout",
       "prompt_number": 17,
       "text": [
        "[<matplotlib.lines.Line2D at 0x108a54c10>]"
       ]
      },
      {
       "metadata": {},
       "output_type": "display_data",
       "png": "[encoded data removed]",
       "text": [
        "<matplotlib.figure.Figure at 0x1037c4890>"
       ]
      }
     ],
     "prompt_number": 17
    },
    {
     "cell_type": "code",
     "collapsed": false,
     "input": [
      "spectral_data[0]"
     ],
     "language": "python",
     "metadata": {},
     "outputs": [
      {
       "metadata": {},
       "output_type": "pyout",
       "prompt_number": 18,
       "text": [
        "'/Users/rbiswas/soft/core_collapse_templates/data/2007uy/cfa_2007uy/cfa_2007uy_MJD54468.dat'"
       ]
      }
     ],
     "prompt_number": 18
    },
    {
     "cell_type": "code",
     "collapsed": false,
     "input": [
      "mangled_data = np.loadtxt(mangled_spectra[0])"
     ],
     "language": "python",
     "metadata": {},
     "outputs": [],
     "prompt_number": 20
    },
    {
     "cell_type": "code",
     "collapsed": false,
     "input": [
      "plt.plot(mangled_data[:,0], mangled_data[:, 1])\n",
      "plt.plot(data[:, 0], data[:, 1] * np.mean(mangled_data[:, 1])/ np.mean(data[:, 1]))"
     ],
     "language": "python",
     "metadata": {},
     "outputs": [
      {
       "metadata": {},
       "output_type": "pyout",
       "prompt_number": 31,
       "text": [
        "[<matplotlib.lines.Line2D at 0x10932f950>]"
       ]
      },
      {
       "metadata": {},
       "output_type": "display_data",
       "png": "[encoded data removed]",
       "text": [
        "<matplotlib.figure.Figure at 0x109b1af90>"
       ]
      }
     ],
     "prompt_number": 31
    },
    {
     "cell_type": "code",
     "collapsed": false,
     "input": [
      "len(data[:, 1])"
     ],
     "language": "python",
     "metadata": {},
     "outputs": [
      {
       "metadata": {},
       "output_type": "pyout",
       "prompt_number": 32,
       "text": [
        "2683"
       ]
      }
     ],
     "prompt_number": 32
    },
    {
     "cell_type": "code",
     "collapsed": false,
     "input": [
      "len(mangled_data[:,1])"
     ],
     "language": "python",
     "metadata": {},
     "outputs": [
      {
       "metadata": {},
       "output_type": "pyout",
       "prompt_number": 33,
       "text": [
        "2683"
       ]
      }
     ],
     "prompt_number": 33
    },
    {
     "cell_type": "code",
     "collapsed": false,
     "input": [
      "plt.plot(data[:, 0], mangled_data[:, 1]/ data[:, 1])"
     ],
     "language": "python",
     "metadata": {},
     "outputs": [
      {
       "metadata": {},
       "output_type": "pyout",
       "prompt_number": 35,
       "text": [
        "[<matplotlib.lines.Line2D at 0x1093d7dd0>]"
       ]
      },
      {
       "metadata": {},
       "output_type": "display_data",
       "png": "[encoded data removed]",
       "text": [
        "<matplotlib.figure.Figure at 0x108c2ab10>"
       ]
      }
     ],
     "prompt_number": 35
    },
    {
     "cell_type": "code",
     "collapsed": false,
     "input": [
      "?sncosmo.TimeSeriesSource"
     ],
     "language": "python",
     "metadata": {},
     "outputs": [],
     "prompt_number": 37
    },
    {
     "cell_type": "code",
     "collapsed": false,
     "input": [
      "def getday(mangled_spectrum):\n",
      "    s = mangled_spectrum.split('_mangled')[0]\n",
      "    day = s.split('MJD')[-1]\n",
      "    return float(day)"
     ],
     "language": "python",
     "metadata": {},
     "outputs": [],
     "prompt_number": 39
    },
    {
     "cell_type": "code",
     "collapsed": false,
     "input": [
      "def getdays(mangled_spectra):\n",
      "    return np.sort(np.array(map(getday, mangled_spectra)))"
     ],
     "language": "python",
     "metadata": {},
     "outputs": [],
     "prompt_number": 46
    },
    {
     "cell_type": "code",
     "collapsed": false,
     "input": [
      "def get_phases(mangled_spectra):\n",
      "    return np.diff(getdays(mangled_spectra))"
     ],
     "language": "python",
     "metadata": {},
     "outputs": [],
     "prompt_number": 47
    },
    {
     "cell_type": "code",
     "collapsed": false,
     "input": [
      "def get_waves(mangled_spectra):\n",
      "    for spectra in mangled_spectra:\n",
      "        d = np.loadtxt(spectra)\n",
      "        print len(d)"
     ],
     "language": "python",
     "metadata": {},
     "outputs": [],
     "prompt_number": 48
    },
    {
     "cell_type": "code",
     "collapsed": false,
     "input": [
      "get_waves(mangled_spectra)"
     ],
     "language": "python",
     "metadata": {},
     "outputs": [
      {
       "output_type": "stream",
       "stream": "stdout",
       "text": [
        "2683\n",
        "2682\n",
        "2665\n",
        "2682\n",
        "2683"
       ]
      },
      {
       "output_type": "stream",
       "stream": "stdout",
       "text": [
        "\n",
        "2682\n",
        "2683\n",
        "2664\n",
        "2666"
       ]
      },
      {
       "output_type": "stream",
       "stream": "stdout",
       "text": [
        "\n",
        "2682\n"
       ]
      }
     ],
     "prompt_number": 49
    },
    {
     "cell_type": "code",
     "collapsed": false,
     "input": [
      "get_phases(mangled_spectra)"
     ],
     "language": "python",
     "metadata": {},
     "outputs": [
      {
       "metadata": {},
       "output_type": "pyout",
       "prompt_number": 50,
       "text": [
        "array([  1.9861 ,   4.96524,   0.99305,   1.9861 ,  15.88881,  32.7706 ,\n",
        "         8.9374 ,  20.854  ,  65.5417 ])"
       ]
      }
     ],
     "prompt_number": 50
    },
    {
     "cell_type": "code",
     "collapsed": false,
     "input": [
      "mangled_spectra"
     ],
     "language": "python",
     "metadata": {},
     "outputs": [
      {
       "metadata": {},
       "output_type": "pyout",
       "prompt_number": 38,
       "text": [
        "['/Users/rbiswas/soft/core_collapse_templates/data/2007uy/cfa_2007uy/cfa_2007uy_MJD0_mangled.txt',\n",
        " '/Users/rbiswas/soft/core_collapse_templates/data/2007uy/cfa_2007uy/cfa_2007uy_MJD1.9861_mangled.txt',\n",
        " '/Users/rbiswas/soft/core_collapse_templates/data/2007uy/cfa_2007uy/cfa_2007uy_MJD153.923_mangled.txt',\n",
        " '/Users/rbiswas/soft/core_collapse_templates/data/2007uy/cfa_2007uy/cfa_2007uy_MJD25.8193_mangled.txt',\n",
        " '/Users/rbiswas/soft/core_collapse_templates/data/2007uy/cfa_2007uy/cfa_2007uy_MJD58.5899_mangled.txt',\n",
        " '/Users/rbiswas/soft/core_collapse_templates/data/2007uy/cfa_2007uy/cfa_2007uy_MJD6.95134_mangled.txt',\n",
        " '/Users/rbiswas/soft/core_collapse_templates/data/2007uy/cfa_2007uy/cfa_2007uy_MJD67.5273_mangled.txt',\n",
        " '/Users/rbiswas/soft/core_collapse_templates/data/2007uy/cfa_2007uy/cfa_2007uy_MJD7.94439_mangled.txt',\n",
        " '/Users/rbiswas/soft/core_collapse_templates/data/2007uy/cfa_2007uy/cfa_2007uy_MJD88.3813_mangled.txt',\n",
        " '/Users/rbiswas/soft/core_collapse_templates/data/2007uy/cfa_2007uy/cfa_2007uy_MJD9.93049_mangled.txt']"
       ]
      }
     ],
     "prompt_number": 38
    },
    {
     "cell_type": "code",
     "collapsed": false,
     "input": [],
     "language": "python",
     "metadata": {},
     "outputs": []
    }
   ],
   "metadata": {}
  }
 ]
}