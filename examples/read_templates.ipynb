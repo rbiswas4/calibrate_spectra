{
 "metadata": {
  "name": "",
  "signature": "sha256:8231e43b00a9039c3aedb67612a703e5ec22c131449fe3f262e4e5f1f6aaa79a"
 },
 "nbformat": 3,
 "nbformat_minor": 0,
 "worksheets": [
  {
   "cells": [
    {
     "cell_type": "code",
     "collapsed": false,
     "input": [
      "import numpy as np\n",
      "%matplotlib inline\n",
      "import matplotlib.pyplot as plt"
     ],
     "language": "python",
     "metadata": {},
     "outputs": [],
     "prompt_number": 1
    },
    {
     "cell_type": "code",
     "collapsed": false,
     "input": [
      "import sncosmo"
     ],
     "language": "python",
     "metadata": {},
     "outputs": [],
     "prompt_number": 2
    },
    {
     "cell_type": "code",
     "collapsed": false,
     "input": [
      "import glob"
     ],
     "language": "python",
     "metadata": {},
     "outputs": [],
     "prompt_number": 3
    },
    {
     "cell_type": "code",
     "collapsed": false,
     "input": [
      "class TransientObject(object):\n",
      "    \n",
      "    def __init__(self, spectral_data, matched_spectra, days, data_fnames=None, mangled_fnames=None):\n",
      "        \"\"\"\n",
      "        Constructor\n",
      "        \n",
      "        Parameters\n",
      "        ----------\n",
      "        spectral_data: list of 2-D `np.ndarray` of floats\n",
      "            list of all the spectral data available corresponding to the object.\n",
      "            Each `np.ndarray` has columns of wavelength and specific flux in units\n",
      "            of Ang and arbitrary units respectively\n",
      "        matched_spectra: list of 2-D `np.ndarray` of floats \n",
      "            list of all of the 'mangled' spectral data matched to the photometry of\n",
      "            the transient object, in the form of 2-D `np.ndarray`. The list of arrays\n",
      "            is indexed identically to the `spectral data`. Each `np.ndarray` has columns\n",
      "            wavelength in units of Ang, and specific flux ($f_\\lambda$) in units of \n",
      "            ergs/cm^2/s/Ang.\n",
      "        days: `np.ndarray` of floats\n",
      "            days on which the spectral_data were taken in the same \n",
      "        \n",
      "        Returns\n",
      "        -------\n",
      "        instance of TransientObject class\n",
      "        \n",
      "        \n",
      "        .. note :: the wavelength gridding of the `mangled` matched spectra should \n",
      "        be identical, and may differ from the wavelength gridding of the spectral_data\n",
      "        of the object from which it was constructed\n",
      "        \"\"\"\n",
      "        \n",
      "        self.sortOrder = np.argsort(days)\n",
      "        self.data_fnames = data_fnames[self.sortOrder]\n",
      "        self.mangled_fnames = mangled_fnames[self.sortOrder]\n",
      "        self.spectral_data = np.array(spectral_data)[self.sortOrder]\n",
      "        self.mangled_spectra = np.array(matched_spectra)[self.sortOrder]\n",
      "        self.mjds = np.array(days)[self.sortOrder]\n",
      "        \n",
      "        \n",
      "    @classmethod\n",
      "    def fromDataDir(cls, spectralDataDir):\n",
      "        \"\"\"\n",
      "        \"\"\"\n",
      "        import glob\n",
      "\n",
      "        \n",
      "        spectralDataFname = np.array(glob.glob(spectralDataDir + '/*.dat'))\n",
      "        mangledDataFname = np.array(glob.glob(spectralDataDir + '/*mangled.txt'))\n",
      "            \n",
      "        spectral_data = map(np.loadtxt, spectralDataFname) \n",
      "        matched_spectra = map(np.loadtxt, mangledDataFname)\n",
      "        days = map(cls.parse_mjds, mangledDataFname)\n",
      "        \n",
      "        \n",
      "            \n",
      "        return cls(spectral_data=spectral_data, matched_spectra=matched_spectra, days=days,\n",
      "                   data_fnames=spectralDataFname, mangled_fnames=mangledDataFname) \n",
      "            \n",
      "    @staticmethod    \n",
      "    def parse_mjds(mangledSpectraFileName):\n",
      "        \"\"\"\n",
      "        \n",
      "        \"\"\"\n",
      "        s = mangledSpectraFileName.split('_mangled')[0]\n",
      "        day = s.split('MJD')[-1]\n",
      "        return float(day)"
     ],
     "language": "python",
     "metadata": {},
     "outputs": [],
     "prompt_number": 53
    },
    {
     "cell_type": "code",
     "collapsed": false,
     "input": [
      "location = '/Users/rbiswas/soft/core_collapse_templates/data/2007uy/cfa_2007uy'"
     ],
     "language": "python",
     "metadata": {},
     "outputs": [],
     "prompt_number": 54
    },
    {
     "cell_type": "code",
     "collapsed": false,
     "input": [
      "t  = TransientObject.fromDataDir(location)"
     ],
     "language": "python",
     "metadata": {},
     "outputs": [],
     "prompt_number": 55
    },
    {
     "cell_type": "code",
     "collapsed": false,
     "input": [
      "t.mjds[np.argsort(t.mjds)]"
     ],
     "language": "python",
     "metadata": {},
     "outputs": [
      {
       "metadata": {},
       "output_type": "pyout",
       "prompt_number": 47,
       "text": [
        "array([   0.     ,    1.9861 ,    6.95134,    7.94439,    9.93049,\n",
        "         25.8193 ,   58.5899 ,   67.5273 ,   88.3813 ,  153.923  ])"
       ]
      }
     ],
     "prompt_number": 47
    },
    {
     "cell_type": "code",
     "collapsed": false,
     "input": [
      "import sncosmo"
     ],
     "language": "python",
     "metadata": {},
     "outputs": [],
     "prompt_number": 58
    },
    {
     "cell_type": "code",
     "collapsed": false,
     "input": [
      "ts = sncosmo.TimeSeriesSource(phase=t.mjds, wave=t.)"
     ],
     "language": "python",
     "metadata": {},
     "outputs": []
    },
    {
     "cell_type": "code",
     "collapsed": false,
     "input": [
      "sncosmo.TimeSeriesSource?"
     ],
     "language": "python",
     "metadata": {},
     "outputs": [],
     "prompt_number": 59
    },
    {
     "cell_type": "code",
     "collapsed": false,
     "input": [],
     "language": "python",
     "metadata": {},
     "outputs": []
    }
   ],
   "metadata": {}
  }
 ]
}