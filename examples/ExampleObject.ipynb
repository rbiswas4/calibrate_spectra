{
 "metadata": {
  "name": "",
  "signature": "sha256:ad4cb857f34015c3eb227b45f7c05c21f84573ac49c4ee8b6e23b174c61ba9af"
 },
 "nbformat": 3,
 "nbformat_minor": 0,
 "worksheets": [
  {
   "cells": [
    {
     "cell_type": "code",
     "collapsed": false,
     "input": [
      "import os"
     ],
     "language": "python",
     "metadata": {},
     "outputs": [],
     "prompt_number": 1
    },
    {
     "cell_type": "code",
     "collapsed": false,
     "input": [
      "import numpy as np"
     ],
     "language": "python",
     "metadata": {},
     "outputs": [],
     "prompt_number": 2
    },
    {
     "cell_type": "code",
     "collapsed": false,
     "input": [
      "%matplotlib inline\n",
      "import matplotlib.pyplot as plt"
     ],
     "language": "python",
     "metadata": {},
     "outputs": [],
     "prompt_number": 3
    },
    {
     "cell_type": "code",
     "collapsed": false,
     "input": [
      "import sncosmo"
     ],
     "language": "python",
     "metadata": {},
     "outputs": [],
     "prompt_number": 4
    },
    {
     "cell_type": "code",
     "collapsed": false,
     "input": [
      "import transientSources.transients as ts\n",
      "example_data =  os.path.join(os.path.split(ts.__file__)[0], 'example_data')"
     ],
     "language": "python",
     "metadata": {},
     "outputs": [],
     "prompt_number": 5
    },
    {
     "cell_type": "heading",
     "level": 2,
     "metadata": {},
     "source": [
      "Load the directory as a SNCosmo Source"
     ]
    },
    {
     "cell_type": "code",
     "collapsed": false,
     "input": [
      "location = os.path.join(example_data, '2007uy/cfa_2007uy')"
     ],
     "language": "python",
     "metadata": {},
     "outputs": [],
     "prompt_number": 6
    },
    {
     "cell_type": "markdown",
     "metadata": {},
     "source": [
      "The representation of the astrophysical object in terms of the spectra provided is in TransientObject"
     ]
    },
    {
     "cell_type": "code",
     "collapsed": false,
     "input": [
      "help(ts.TransientObject)"
     ],
     "language": "python",
     "metadata": {},
     "outputs": [
      {
       "output_type": "stream",
       "stream": "stdout",
       "text": [
        "Help on class TransientObject in module transientSources.transients:\n",
        "\n",
        "class TransientObject(__builtin__.object)\n",
        " |  Methods defined here:\n",
        " |  \n",
        " |  __init__(self, name, spectral_data, matched_spectra, days, data_fnames=None, mangled_fnames=None)\n",
        " |      Constructor\n",
        " |      \n",
        " |      Parameters\n",
        " |      ----------\n",
        " |      name: string, mandatory\n",
        " |          name of the source, convention is author/compilation/code hyphen\n",
        " |          IAU name\n",
        " |      spectral_data: list of 2-D `np.ndarray` of floats\n",
        " |          list of all the spectral data available corresponding to the object.\n",
        " |          Each `np.ndarray` has columns of wavelength and specific flux in\n",
        " |          units of Ang and arbitrary units respectively\n",
        " |      matched_spectra: list of 2-D `np.ndarray` of floats \n",
        " |          list of all of the 'mangled' spectral data matched to the\n",
        " |          photometry of the transient object, in the form of 2-D `np.ndarray`.\n",
        " |          The list of arrays is indexed identically to the `spectral data`.\n",
        " |          Each `np.ndarray` has columns wavelength in units of Ang, and\n",
        " |          specific flux ($f_\\lambda$) in units of ergs/cm^2/s/Ang. It is\n",
        " |          assumed that the wavelengths are indexed in ascending order.\n",
        " |      days: `np.ndarray` of floats\n",
        " |          days on which the spectral_data were taken in the same.  \n",
        " |      \n",
        " |      Returns\n",
        " |      -------\n",
        " |      instance of TransientObject class\n",
        " |      \n",
        " |      .. note :: 1. the wavelength gridding of the `mangled` matched spectra\n",
        " |      should be identical, and may differ from the wavelength gridding of the\n",
        " |      spectral_data of the object from which it was constructed. 2. The\n",
        " |      wavelengths in the matched spectra are assumed to be in increasing\n",
        " |      order.\n",
        " |  \n",
        " |  getPhotometry(self, dataDir, filterList=[])\n",
        " |  \n",
        " |  setphasePeak(self, value)\n",
        " |      # @phasePeak.setter\n",
        " |  \n",
        " |  validateWavelengths(self, verbose=False)\n",
        " |      Check that the wavelength grid of the `self.matched_spectra\n",
        " |      are identical to each other and that the wavelengths are\n",
        " |      in increasing order\n",
        " |  \n",
        " |  ----------------------------------------------------------------------\n",
        " |  Class methods defined here:\n",
        " |  \n",
        " |  fromDataDir(cls, name, spectralDataDir) from __builtin__.type\n",
        " |  \n",
        " |  ----------------------------------------------------------------------\n",
        " |  Static methods defined here:\n",
        " |  \n",
        " |  parse_mjds(mangledSpectraFileName)\n",
        " |  \n",
        " |  photometryTable(fname, filt, filterDict=None)\n",
        " |  \n",
        " |  ----------------------------------------------------------------------\n",
        " |  Data descriptors defined here:\n",
        " |  \n",
        " |  SNCosmoSource\n",
        " |  \n",
        " |  __dict__\n",
        " |      dictionary for instance variables (if defined)\n",
        " |  \n",
        " |  __weakref__\n",
        " |      list of weak references to the object (if defined)\n",
        " |  \n",
        " |  phasePeak\n",
        "\n"
       ]
      }
     ],
     "prompt_number": 9
    },
    {
     "cell_type": "code",
     "collapsed": false,
     "input": [
      "mysource = ts.TransientObject.fromDataDir(name='Karpenka-2007uy', spectralDataDir=location)"
     ],
     "language": "python",
     "metadata": {},
     "outputs": [],
     "prompt_number": 10
    },
    {
     "cell_type": "markdown",
     "metadata": {},
     "source": [
      "mysource is an instance of TransientObject that keeps track of how we built it. The attribute of mysource \n",
      "that is most interesting for our purpose is `SNCosmoSource`. This is the source which we will use to build \n",
      "SNCosmo Light curves. This is built from the restframe 'mangled' spectra provided by Natasha, and their phases\n",
      "which do not know where the 'peak' is. 2007uy is of Type Ib."
     ]
    },
    {
     "cell_type": "code",
     "collapsed": false,
     "input": [
      "print mysource.SNCosmoSource"
     ],
     "language": "python",
     "metadata": {},
     "outputs": [
      {
       "output_type": "stream",
       "stream": "stdout",
       "text": [
        "class      : TimeSeriesSource\n",
        "name       : 'Karpenka-2007uy'\n",
        "version    : None\n",
        "phases     : [-9.46827, .., 78.913] days\n",
        "wavelengths: [3454.82, .., 7369.95] Angstroms\n",
        "parameters:\n",
        "  amplitude = 1.0\n"
       ]
      }
     ],
     "prompt_number": 11
    },
    {
     "cell_type": "code",
     "collapsed": false,
     "input": [
      "peak = mysource.phasePeak\n",
      "print peak"
     ],
     "language": "python",
     "metadata": {},
     "outputs": [
      {
       "output_type": "stream",
       "stream": "stdout",
       "text": [
        "9.46826711652\n"
       ]
      }
     ],
     "prompt_number": 12
    },
    {
     "cell_type": "markdown",
     "metadata": {},
     "source": [
      "Without being told what the peak phase is, TransientObject calculates the peak phase to be at the restFrame 'besselB'\n",
      "band peak. Note that in the above instance, the peak has been calculated to 9.47, and so the spectra which originally\n",
      "had a date of 0. now has a phase of -9.47."
     ]
    },
    {
     "cell_type": "markdown",
     "metadata": {},
     "source": [
      "However,one can also set this peak if they have prior knowledge"
     ]
    },
    {
     "cell_type": "code",
     "collapsed": false,
     "input": [
      "mysource.setphasePeak(3.)"
     ],
     "language": "python",
     "metadata": {},
     "outputs": [],
     "prompt_number": 13
    },
    {
     "cell_type": "code",
     "collapsed": false,
     "input": [
      "print mysource.SNCosmoSource"
     ],
     "language": "python",
     "metadata": {},
     "outputs": [
      {
       "output_type": "stream",
       "stream": "stdout",
       "text": [
        "class      : TimeSeriesSource\n",
        "name       : 'Karpenka-2007uy'\n",
        "version    : None\n",
        "phases     : [-3, .., 85.3813] days\n",
        "wavelengths: [3454.82, .., 7369.95] Angstroms\n",
        "parameters:\n",
        "  amplitude = 1.0\n"
       ]
      }
     ],
     "prompt_number": 14
    },
    {
     "cell_type": "markdown",
     "metadata": {},
     "source": [
      "Note that now, the 0 phase is mapped to -3. in recognition of the \n",
      "fact that peak is at phase 3.0 of the supplied days."
     ]
    },
    {
     "cell_type": "markdown",
     "metadata": {},
     "source": [
      "Now we will set it back (assuming we don't know what the peak really is"
     ]
    },
    {
     "cell_type": "code",
     "collapsed": false,
     "input": [
      "mysource.setphasePeak(peak)"
     ],
     "language": "python",
     "metadata": {},
     "outputs": [],
     "prompt_number": 15
    },
    {
     "cell_type": "code",
     "collapsed": false,
     "input": [
      "print mysource.SNCosmoSource"
     ],
     "language": "python",
     "metadata": {},
     "outputs": [
      {
       "output_type": "stream",
       "stream": "stdout",
       "text": [
        "class      : TimeSeriesSource\n",
        "name       : 'Karpenka-2007uy'\n",
        "version    : None\n",
        "phases     : [-9.46827, .., 78.913] days\n",
        "wavelengths: [3454.82, .., 7369.95] Angstroms\n",
        "parameters:\n",
        "  amplitude = 1.0\n"
       ]
      }
     ],
     "prompt_number": 16
    },
    {
     "cell_type": "markdown",
     "metadata": {},
     "source": [
      "We can examine the minimum and maximum rest frame phases and wavelength"
     ]
    },
    {
     "cell_type": "code",
     "collapsed": false,
     "input": [
      "mysource.SNCosmoSource.minphase(), mysource.SNCosmoSource.maxphase()"
     ],
     "language": "python",
     "metadata": {},
     "outputs": [
      {
       "metadata": {},
       "output_type": "pyout",
       "prompt_number": 17,
       "text": [
        "(-9.4682671165156798, 78.91303288348432)"
       ]
      }
     ],
     "prompt_number": 17
    },
    {
     "cell_type": "code",
     "collapsed": false,
     "input": [
      "mysource.SNCosmoSource.minwave(), mysource.SNCosmoSource.maxwave()"
     ],
     "language": "python",
     "metadata": {},
     "outputs": [
      {
       "metadata": {},
       "output_type": "pyout",
       "prompt_number": 18,
       "text": [
        "(3454.8200000000002, 7369.9499999999998)"
       ]
      }
     ],
     "prompt_number": 18
    },
    {
     "cell_type": "markdown",
     "metadata": {},
     "source": [
      "This is one of the disadvantages related to single spectra (as opposed to ensembles) due to the lack of data (the rest of the\n",
      "notebook will show advantages of this approach in this regime of low data). \n",
      "- How do we use these models to simulate and fit SN at diffferent wavelengths and phases outside the range of the data?"
     ]
    },
    {
     "cell_type": "heading",
     "level": 2,
     "metadata": {},
     "source": [
      "Build  SNCosmo Model"
     ]
    },
    {
     "cell_type": "code",
     "collapsed": false,
     "input": [
      "model = sncosmo.Model(source=mysource.SNCosmoSource)"
     ],
     "language": "python",
     "metadata": {},
     "outputs": [],
     "prompt_number": 19
    },
    {
     "cell_type": "code",
     "collapsed": false,
     "input": [
      "print model"
     ],
     "language": "python",
     "metadata": {},
     "outputs": [
      {
       "output_type": "stream",
       "stream": "stdout",
       "text": [
        "<Model at 0x1088d0b50>\n",
        "source:\n",
        "  class      : TimeSeriesSource\n",
        "  name       : 'Karpenka-2007uy'\n",
        "  version    : None\n",
        "  phases     : [-9.46827, .., 78.913] days\n",
        "  wavelengths: [3454.82, .., 7369.95] Angstroms\n",
        "parameters:\n",
        "  z         = 0.0\n",
        "  t0        = 0.0\n",
        "  amplitude = 1.0\n"
       ]
      }
     ],
     "prompt_number": 20
    },
    {
     "cell_type": "code",
     "collapsed": false,
     "input": [
      "#Set parameters to match the photometry \n",
      "# t0 is a guess provided for the peak of the observed photometry."
     ],
     "language": "python",
     "metadata": {},
     "outputs": [],
     "prompt_number": 21
    },
    {
     "cell_type": "code",
     "collapsed": false,
     "input": [
      "model.set(z=0.0007, t0=54478.)\n",
      "t0 =54478"
     ],
     "language": "python",
     "metadata": {},
     "outputs": [],
     "prompt_number": 22
    },
    {
     "cell_type": "heading",
     "level": 4,
     "metadata": {},
     "source": [
      "Look at the Model Spectra"
     ]
    },
    {
     "cell_type": "code",
     "collapsed": false,
     "input": [
      "waves = model._source._wave * (1.0 + 0.0007)"
     ],
     "language": "python",
     "metadata": {},
     "outputs": [],
     "prompt_number": 23
    },
    {
     "cell_type": "code",
     "collapsed": false,
     "input": [
      "fluxes = model.flux(time=np.arange(-5.+ t0, 10. + t0), wave=waves)"
     ],
     "language": "python",
     "metadata": {},
     "outputs": [],
     "prompt_number": 24
    },
    {
     "cell_type": "code",
     "collapsed": false,
     "input": [
      "fig = plt.figure()\n",
      "ax1 = fig.add_subplot(221)\n",
      "ax1.plot(waves, fluxes[0])\n",
      "ax2 = fig.add_subplot(222)\n",
      "for flux in fluxes:\n",
      "    ax2.plot(waves, flux)"
     ],
     "language": "python",
     "metadata": {},
     "outputs": [
      {
       "metadata": {},
       "output_type": "display_data",
       "png": "[encoded data removed]",
       "text": [
        "<matplotlib.figure.Figure at 0x1038c3850>"
       ]
      }
     ],
     "prompt_number": 25
    },
    {
     "cell_type": "markdown",
     "metadata": {},
     "source": [
      "The SEDs are single object, and are therefore noisy. It is possible to smooth them,\n",
      "if necessary. The right figure shows a bunch of the spectra. This is easier to see\n",
      "in animation."
     ]
    },
    {
     "cell_type": "code",
     "collapsed": false,
     "input": [
      "filtlist = ['bessellB', 'bessellV', 'bessellr', 'besselli']\n",
      "filtfig, ax = plt.subplots()\n",
      "for filt in filtlist:\n",
      "    bp = sncosmo.get_bandpass(filt)\n",
      "    ax.plot(bp.wave, bp.trans)\n",
      "    ax.plot(waves, fluxes[0]*1e15)"
     ],
     "language": "python",
     "metadata": {},
     "outputs": [
      {
       "metadata": {},
       "output_type": "display_data",
       "png": "[encoded data removed]",
       "text": [
        "<matplotlib.figure.Figure at 0x108c20550>"
       ]
      }
     ],
     "prompt_number": 26
    },
    {
     "cell_type": "markdown",
     "metadata": {},
     "source": [
      "The Bessell filters I am using and the spectra (multiplied by a constant to\n",
      "show on the figure). B, V are overlapped by the spectrum, i and r have support\n",
      "outside the wavlength range of spectrum, and therefore band fluxes cannot be\n",
      "computed."
     ]
    },
    {
     "cell_type": "heading",
     "level": 2,
     "metadata": {},
     "source": [
      "Animation of the spectral series: comparison with other templates"
     ]
    },
    {
     "cell_type": "markdown",
     "metadata": {},
     "source": [
      "Warning\n",
      "-------\n",
      "\n",
      "Slowest section of the Notebook, and hence commented out, as nothing else depends on the output and I have added the output files for viewing. To run, uncomment the lines and run them but it might take a few minutes. Also you might need to have ffmpeg\n",
      "encoder"
     ]
    },
    {
     "cell_type": "markdown",
     "metadata": {},
     "source": [
      "We will compare the evolution of the spectral series with Ia (SALT2) and other templates for Ib /Ibc. Nugent Template\n",
      "is a template for Type Ibc built from an ensemble of objects. The other three templates are the Nugent template matched\n",
      "to the photometry of these SN: 2005hl, 2005hm and 2006jo. These were first referenced in Sako, 2011, and the code to do\n",
      "this was probably made by Saurabh Jha. "
     ]
    },
    {
     "cell_type": "code",
     "collapsed": false,
     "input": [
      "# saltsource = sncosmo.Model(source='salt2')._source\n",
      "# nugent_1bc = sncosmo.Model(source='nugent-sn1bc')._source\n",
      "# sn_2005_hl = sncosmo.Model(source='s11-2005hl')._source\n",
      "# sn_2005_hm = sncosmo.Model(source='s11-2005hm')._source\n",
      "# sn_2006_jo = sncosmo.Model(source='s11-2006jo')._source"
     ],
     "language": "python",
     "metadata": {},
     "outputs": [],
     "prompt_number": 27
    },
    {
     "cell_type": "code",
     "collapsed": false,
     "input": [
      "# test = sncosmo.animate_source([mysource.SNCosmoSource, saltsource, nugent_1bc, sn_2005_hl, sn_2005_hm, sn_2006_jo], \n",
      "                              label=['Karpenka_2007_uy', 'salt2', 'NugentIbc', '2005_hl', '2005_hm', '2006_jo'],\n",
      "                              fname='Karpenka_comparison.mp4')"
     ],
     "language": "python",
     "metadata": {},
     "outputs": [],
     "prompt_number": 28
    },
    {
     "cell_type": "heading",
     "level": 2,
     "metadata": {},
     "source": [
      "Compare photometry"
     ]
    },
    {
     "cell_type": "markdown",
     "metadata": {},
     "source": [
      "Given the current directory structure, we have a getPhotometry() method, that loads the photometry into\n",
      "an astropy Table. This is illustrated below. Note that the fluxes are in units of `ergs/cm^2/sec`."
     ]
    },
    {
     "cell_type": "code",
     "collapsed": false,
     "input": [
      "photometryDirectory = os.path.join(example_data, '2007uy/')\n",
      "photometry = mysource.getPhotometry(photometryDirectory, filterList=['B', 'V', 'i', 'r'])"
     ],
     "language": "python",
     "metadata": {},
     "outputs": [],
     "prompt_number": 29
    },
    {
     "cell_type": "code",
     "collapsed": false,
     "input": [
      "photometry"
     ],
     "language": "python",
     "metadata": {},
     "outputs": [
      {
       "html": [
        "<table id=\"table4415821776\"><thead><tr><th>time</th><th>flux</th><th>fluxerr</th><th>band</th></tr></thead><tr><td>54470.4849</td><td>9.187556e-16</td><td>1.523169e-17</td><td>bessellB</td></tr><tr><td>54474.44575</td><td>1.161984e-15</td><td>1.712362e-17</td><td>bessellB</td></tr><tr><td>54475.41519</td><td>1.195639e-15</td><td>1.761958e-17</td><td>bessellB</td></tr><tr><td>54476.44191</td><td>1.229136e-15</td><td>1.811322e-17</td><td>bessellB</td></tr><tr><td>54477.36835</td><td>1.241652e-15</td><td>1.829766e-17</td><td>bessellB</td></tr><tr><td>54478.39779</td><td>1.230269e-15</td><td>1.812991e-17</td><td>bessellB</td></tr><tr><td>54480.39863</td><td>1.17598e-15</td><td>1.732988e-17</td><td>bessellB</td></tr><tr><td>54481.51614</td><td>1.164126e-15</td><td>1.71552e-17</td><td>bessellB</td></tr><tr><td>54482.44583</td><td>1.09446e-15</td><td>1.612856e-17</td><td>bessellB</td></tr><tr><td>54483.28662</td><td>1.055845e-15</td><td>1.653197e-17</td><td>bessellB</td></tr><tr><td>54484.37214</td><td>9.862795e-16</td><td>1.544275e-17</td><td>bessellB</td></tr><tr><td>...</td><td>...</td><td>...</td><td>...</td></tr><tr><td>54572.16715</td><td>1.251988e-16</td><td>3.920619e-18</td><td>bessellR</td></tr><tr><td>54575.24338</td><td>1.32923e-16</td><td>3.91765e-18</td><td>bessellR</td></tr><tr><td>54579.12469</td><td>1.198947e-16</td><td>3.754522e-18</td><td>bessellR</td></tr><tr><td>54583.1405</td><td>1.13658e-16</td><td>3.035804e-18</td><td>bessellR</td></tr><tr><td>54585.16881</td><td>1.058766e-16</td><td>4.193186e-18</td><td>bessellR</td></tr><tr><td>54590.1659</td><td>1e-16</td><td>3.77624e-18</td><td>bessellR</td></tr><tr><td>54593.15713</td><td>8.822669e-17</td><td>3.006612e-18</td><td>bessellR</td></tr><tr><td>54594.15625</td><td>8.87156e-17</td><td>3.676954e-18</td><td>bessellR</td></tr><tr><td>54597.16552</td><td>8.574326e-17</td><td>3.474788e-18</td><td>bessellR</td></tr><tr><td>54603.14835</td><td>8.0094e-17</td><td>5.975314e-18</td><td>bessellR</td></tr><tr><td>54615.14566</td><td>5.921067e-17</td><td>3.435708e-18</td><td>bessellR</td></tr></table>"
       ],
       "metadata": {},
       "output_type": "pyout",
       "prompt_number": 30,
       "text": [
        "<Table rows=184 names=('time','flux','fluxerr','band')>\n",
        "array([(54470.4849, 9.187556e-16, 1.523169e-17, 'bessellB'),\n",
        "       (54474.44575, 1.161984e-15, 1.712362e-17, 'bessellB'),\n",
        "       (54475.41519, 1.195639e-15, 1.761958e-17, 'bessellB'),\n",
        "       (54476.44191, 1.229136e-15, 1.811322e-17, 'bessellB'),\n",
        "       (54477.36835, 1.241652e-15, 1.829766e-17, 'bessellB'),\n",
        "       (54478.39779, 1.230269e-15, 1.812991e-17, 'bessellB'),\n",
        "       (54480.39863, 1.17598e-15, 1.732988e-17, 'bessellB'),\n",
        "       (54481.51614, 1.164126e-15, 1.71552e-17, 'bessellB'),\n",
        "       (54482.44583, 1.09446e-15, 1.612856e-17, 'bessellB'),\n",
        "       (54483.28662, 1.055845e-15, 1.653197e-17, 'bessellB'),\n",
        "       (54484.37214, 9.862795e-16, 1.544275e-17, 'bessellB'),\n",
        "       (54485.41593, 8.879735e-16, 1.472137e-17, 'bessellB'),\n",
        "       (54494.47464, 3.147748e-16, 1.159673e-17, 'bessellB'),\n",
        "       (54495.37244, 3.093143e-16, 8.261781e-18, 'bessellB'),\n",
        "       (54496.34629, 2.943066e-16, 8.131992e-18, 'bessellB'),\n",
        "       (54497.40503, 2.591791e-16, 1.026465e-17, 'bessellB'),\n",
        "       (54498.31737, 2.689057e-16, 8.420824e-18, 'bessellB'),\n",
        "       (54499.35969, 2.414349e-16, 8.00531e-18, 'bessellB'),\n",
        "       (54502.44801, 2.093148e-16, 7.325871e-18, 'bessellB'),\n",
        "       (54503.35462, 1.848417e-16, 7.490803e-18, 'bessellB'),\n",
        "       (54504.38009, 1.903707e-16, 7.539528e-18, 'bessellB'),\n",
        "       (54505.42428, 1.973331e-16, 7.997023e-18, 'bessellB'),\n",
        "       (54507.22459, 1.760354e-16, 7.78246e-18, 'bessellB'),\n",
        "       (54509.285, 1.776642e-16, 7.527201e-18, 'bessellB'),\n",
        "       (54510.17176, 1.834848e-16, 9.125768e-18, 'bessellB'),\n",
        "       (54520.26501, 1.517749e-16, 8.107812e-18, 'bessellB'),\n",
        "       (54523.25317, 1.506607e-16, 7.770764e-18, 'bessellB'),\n",
        "       (54524.28575, 1.393157e-16, 7.313926e-18, 'bessellB'),\n",
        "       (54531.14281, 1.334136e-16, 7.249828e-18, 'bessellB'),\n",
        "       (54536.16857, 1.402168e-16, 7.102944e-18, 'bessellB'),\n",
        "       (54537.162, 1.19234e-16, 7.028387e-18, 'bessellB'),\n",
        "       (54539.12879, 1.360191e-16, 7.767252e-18, 'bessellB'),\n",
        "       (54547.11476, 1.573258e-16, 8.404341e-18, 'bessellB'),\n",
        "       (54553.13621, 1.156645e-16, 7.457164e-18, 'bessellB'),\n",
        "       (54558.11259, 1.187955e-16, 7.659029e-18, 'bessellB'),\n",
        "       (54569.14075, 1.031811e-16, 8.648028e-18, 'bessellB'),\n",
        "       (54572.17755, 1.379113e-16, 9.526578e-18, 'bessellB'),\n",
        "       (54579.13353, 9.647172e-17, 7.197152e-18, 'bessellB'),\n",
        "       (54583.14883, 9.799412e-17, 7.671753e-18, 'bessellB'),\n",
        "       (54585.17736, 8.425584e-17, 6.673815e-18, 'bessellB'),\n",
        "       (54590.17338, 8.822669e-17, 6.500783e-18, 'bessellB'),\n",
        "       (54593.1657, 7.406278e-17, 6.685005e-18, 'bessellB'),\n",
        "       (54594.16508, 7.358681e-17, 5.896509e-18, 'bessellB'),\n",
        "       (54597.17349, 5.007258e-17, 7.609561e-18, 'bessellB'),\n",
        "       (54611.16118, 4.888774e-17, 7.159337e-18, 'bessellB'),\n",
        "       (54615.1524, 6.754606e-17, 7.900952e-18, 'bessellB'),\n",
        "       (54470.48004, 8.542795e-16, 1.337595e-17, 'bessellV'),\n",
        "       (54474.44089, 1.35145e-15, 1.867097e-17, 'bessellV'),\n",
        "       (54475.41034, 1.458814e-15, 2.015426e-17, 'bessellV'),\n",
        "       (54476.43704, 1.544543e-15, 2.133865e-17, 'bessellV'),\n",
        "       (54477.36349, 1.62181e-15, 2.240613e-17, 'bessellV'),\n",
        "       (54478.39292, 1.733006e-15, 2.394236e-17, 'bessellV'),\n",
        "       (54480.39379, 1.824736e-15, 2.352901e-17, 'bessellV'),\n",
        "       (54481.51127, 1.793081e-15, 2.477233e-17, 'bessellV'),\n",
        "       (54482.4373, 1.853532e-15, 2.731465e-17, 'bessellV'),\n",
        "       (54483.28077, 1.7832e-15, 2.463582e-17, 'bessellV'),\n",
        "       (54484.36659, 1.653484e-15, 2.741247e-17, 'bessellV'),\n",
        "       (54485.41038, 1.633804e-15, 2.257184e-17, 'bessellV'),\n",
        "       (54494.46909, 9.91745e-16, 1.552832e-17, 'bessellV'),\n",
        "       (54495.36689, 9.541134e-16, 1.406033e-17, 'bessellV'),\n",
        "       (54496.34073, 8.701618e-16, 1.282318e-17, 'bessellV'),\n",
        "       (54497.40059, 8.410078e-16, 1.549194e-17, 'bessellV'),\n",
        "       (54498.31182, 7.719692e-16, 1.208717e-17, 'bessellV'),\n",
        "       (54499.35413, 7.331621e-16, 1.215481e-17, 'bessellV'),\n",
        "       (54502.44247, 6.171632e-16, 1.023171e-17, 'bessellV'),\n",
        "       (54503.34968, 5.749102e-16, 1.006073e-17, 'bessellV'),\n",
        "       (54504.37427, 5.530953e-16, 1.018839e-17, 'bessellV'),\n",
        "       (54505.41873, 5.233594e-16, 1.012267e-17, 'bessellV'),\n",
        "       (54507.21905, 4.920395e-16, 9.063703e-18, 'bessellV'),\n",
        "       (54509.27942, 4.57931e-16, 7.59186e-18, 'bessellV'),\n",
        "       (54510.1662, 4.413671e-16, 9.349826e-18, 'bessellV'),\n",
        "       (54520.25946, 3.441914e-16, 7.608288e-18, 'bessellV'),\n",
        "       (54523.2476, 3.314362e-16, 6.715809e-18, 'bessellV'),\n",
        "       (54524.28017, 3.262872e-16, 6.911997e-18, 'bessellV'),\n",
        "       (54531.13726, 2.894676e-16, 6.132019e-18, 'bessellV'),\n",
        "       (54536.16327, 2.723955e-16, 6.77391e-18, 'bessellV'),\n",
        "       (54537.15609, 2.6595e-16, 6.368674e-18, 'bessellV'),\n",
        "       (54539.12262, 2.708944e-16, 6.986083e-18, 'bessellV'),\n",
        "       (54545.11038, 2.282443e-16, 7.77817e-18, 'bessellV'),\n",
        "       (54547.10923, 2.261518e-16, 8.123446e-18, 'bessellV'),\n",
        "       (54549.22815, 2.396625e-16, 1.258202e-17, 'bessellV'),\n",
        "       (54553.13066, 2.185748e-16, 7.448647e-18, 'bessellV'),\n",
        "       (54558.10642, 1.881049e-16, 7.276541e-18, 'bessellV'),\n",
        "       (54569.1346, 1.528974e-16, 7.745302e-18, 'bessellV'),\n",
        "       (54572.17016, 1.506607e-16, 6.244364e-18, 'bessellV'),\n",
        "       (54575.2464, 1.371513e-16, 7.32662e-18, 'bessellV'),\n",
        "       (54579.12771, 1.382929e-16, 6.750743e-18, 'bessellV'),\n",
        "       (54583.14354, 1.256609e-16, 5.208206e-18, 'bessellV'),\n",
        "       (54585.17182, 1.225745e-16, 6.435029e-18, 'bessellV'),\n",
        "       (54590.16892, 8.920722e-17, 5.011936e-18, 'bessellV'),\n",
        "       (54593.16014, 9.981596e-17, 5.699902e-18, 'bessellV'),\n",
        "       (54594.15926, 1.001844e-16, 5.813213e-18, 'bessellV'),\n",
        "       (54597.16854, 9.078205e-17, 6.605456e-18, 'bessellV'),\n",
        "       (54615.14867, 6.748387e-17, 6.215494e-18, 'bessellV'),\n",
        "       (54470.4754, 3.073265e-16, 5.095047e-18, 'bessellI'),\n",
        "       (54474.43624, 5.081594e-16, 8.892611e-18, 'bessellI'),\n",
        "       (54475.40567, 5.561603e-16, 7.683639e-18, 'bessellI'),\n",
        "       (54476.43241, 5.899293e-16, 1.032356e-17, 'bessellI'),\n",
        "       (54477.35887, 6.303765e-16, 9.870169e-18, 'bessellI'),\n",
        "       (54478.3883, 6.717381e-16, 1.113649e-17, 'bessellI'),\n",
        "       (54480.38913, 7.440464e-16, 1.027938e-17, 'bessellI'),\n",
        "       (54481.50664, 7.812679e-16, 1.367191e-17, 'bessellI'),\n",
        "       (54482.42545, 7.762471e-16, 1.28691e-17, 'bessellI'),\n",
        "       (54483.27476, 7.791122e-16, 1.435178e-17, 'bessellI'),\n",
        "       (54484.36057, 7.67715e-16, 1.272765e-17, 'bessellI'),\n",
        "       (54494.46304, 6.297961e-16, 8.700955e-18, 'bessellI'),\n",
        "       (54495.36085, 5.64937e-16, 8.845545e-18, 'bessellI'),\n",
        "       (54496.33469, 5.582131e-16, 7.711999e-18, 'bessellI'),\n",
        "       (54497.39456, 5.395106e-16, 1.043506e-17, 'bessellI'),\n",
        "       (54498.30576, 5.035006e-16, 9.274824e-18, 'bessellI'),\n",
        "       (54499.34811, 4.835039e-16, 7.125177e-18, 'bessellI'),\n",
        "       (54502.43644, 4.138091e-16, 6.098116e-18, 'bessellI'),\n",
        "       (54503.34363, 4.040173e-16, 5.953819e-18, 'bessellI'),\n",
        "       (54505.4127, 3.597493e-16, 6.295486e-18, 'bessellI'),\n",
        "       (54509.27339, 3.153552e-16, 5.518605e-18, 'bessellI'),\n",
        "       (54510.16017, 3.078931e-16, 5.104441e-18, 'bessellI'),\n",
        "       (54520.25344, 2.456971e-16, 4.073317e-18, 'bessellI'),\n",
        "       (54523.24159, 2.318462e-16, 3.63015e-18, 'bessellI'),\n",
        "       (54524.27413, 2.208005e-16, 4.27066e-18, 'bessellI'),\n",
        "       (54531.13123, 1.896706e-16, 3.668554e-18, 'bessellI'),\n",
        "       (54536.15722, 1.744215e-16, 3.373611e-18, 'bessellI'),\n",
        "       (54537.15007, 1.659587e-16, 3.209926e-18, 'bessellI'),\n",
        "       (54539.11659, 1.617335e-16, 3.724052e-18, 'bessellI'),\n",
        "       (54545.10436, 1.352695e-16, 4.235987e-18, 'bessellI'),\n",
        "       (54547.10321, 1.34648e-16, 3.596447e-18, 'bessellI'),\n",
        "       (54549.22212, 1.342765e-16, 3.83387e-18, 'bessellI'),\n",
        "       (54553.12463, 1.193438e-16, 2.967833e-18, 'bessellI'),\n",
        "       (54558.10038, 1.005542e-16, 3.148869e-18, 'bessellI'),\n",
        "       (54572.16413, 7.884969e-17, 2.541814e-18, 'bessellI'),\n",
        "       (54575.24037, 7.318128e-17, 2.493891e-18, 'bessellI'),\n",
        "       (54579.12168, 6.723571e-17, 2.477055e-18, 'bessellI'),\n",
        "       (54583.13749, 6.516284e-17, 2.220636e-18, 'bessellI'),\n",
        "       (54585.16579, 6.619116e-17, 3.231109e-18, 'bessellI'),\n",
        "       (54590.16289, 5.081594e-17, 2.527374e-18, 'bessellI'),\n",
        "       (54593.15411, 5.525862e-17, 2.748334e-18, 'bessellI'),\n",
        "       (54594.15325, 4.524806e-17, 2.25045e-18, 'bessellI'),\n",
        "       (54595.17017, 4.549881e-17, 4.525842e-18, 'bessellI'),\n",
        "       (54603.14478, 3.554676e-17, 3.044799e-18, 'bessellI'),\n",
        "       (54615.14264, 2.973035e-17, 3.094241e-18, 'bessellI'),\n",
        "       (54470.47772, 6.047836e-16, 9.469447e-18, 'bessellR'),\n",
        "       (54474.43855, 9.835581e-16, 1.540014e-17, 'bessellR'),\n",
        "       (54475.408, 1.066596e-15, 1.37532e-17, 'bessellR'),\n",
        "       (54476.43472, 1.157711e-15, 1.706065e-17, 'bessellR'),\n",
        "       (54477.36118, 1.211156e-15, 1.784825e-17, 'bessellR'),\n",
        "       (54478.39062, 1.303767e-15, 1.921302e-17, 'bessellR'),\n",
        "       (54480.39146, 1.388034e-15, 1.789797e-17, 'bessellR'),\n",
        "       (54481.50896, 1.490047e-15, 2.058576e-17, 'bessellR'),\n",
        "       (54482.42596, 1.498304e-15, 2.345982e-17, 'bessellR'),\n",
        "       (54483.27777, 1.475027e-15, 2.309535e-17, 'bessellR'),\n",
        "       (54484.36358, 1.49142e-15, 2.197838e-17, 'bessellR'),\n",
        "       (54494.46605, 1.041358e-15, 1.342776e-17, 'bessellR'),\n",
        "       (54495.36388, 9.963226e-16, 1.56e-17, 'bessellR'),\n",
        "       (54496.33771, 9.384259e-16, 1.210051e-17, 'bessellR'),\n",
        "       (54497.39757, 8.7579e-16, 1.371275e-17, 'bessellR'),\n",
        "       (54498.30879, 8.128305e-16, 1.197831e-17, 'bessellR'),\n",
        "       (54499.35113, 7.812679e-16, 1.151319e-17, 'bessellR'),\n",
        "       (54502.43944, 6.625215e-16, 1.037348e-17, 'bessellR'),\n",
        "       (54503.34666, 6.263254e-16, 8.653005e-18, 'bessellR'),\n",
        "       (54505.41571, 5.680676e-16, 8.371353e-18, 'bessellR'),\n",
        "       (54507.21603, 5.31129e-16, 8.316194e-18, 'bessellR'),\n",
        "       (54509.2764, 4.893279e-16, 7.66169e-18, 'bessellR'),\n",
        "       (54510.16319, 4.773094e-16, 7.033891e-18, 'bessellR'),\n",
        "       (54520.25644, 3.794897e-16, 6.640936e-18, 'bessellR'),\n",
        "       (54523.24459, 3.505904e-16, 5.489397e-18, 'bessellR'),\n",
        "       (54524.27715, 3.4261e-16, 5.679998e-18, 'bessellR'),\n",
        "       (54531.13424, 2.945778e-16, 4.883691e-18, 'bessellR'),\n",
        "       (54536.16027, 2.625427e-16, 4.836216e-18, 'bessellR'),\n",
        "       (54537.15307, 2.630268e-16, 4.602876e-18, 'bessellR'),\n",
        "       (54539.11959, 2.594179e-16, 5.017588e-18, 'bessellR'),\n",
        "       (54547.1062, 2.295091e-16, 5.284643e-18, 'bessellR'),\n",
        "       (54549.22514, 2.058733e-16, 6.826187e-18, 'bessellR'),\n",
        "       (54553.12764, 1.980615e-16, 4.195691e-18, 'bessellR'),\n",
        "       (54558.1034, 1.784843e-16, 4.438533e-18, 'bessellR'),\n",
        "       (54572.16715, 1.251988e-16, 3.920619e-18, 'bessellR'),\n",
        "       (54575.24338, 1.32923e-16, 3.91765e-18, 'bessellR'),\n",
        "       (54579.12469, 1.198947e-16, 3.754522e-18, 'bessellR'),\n",
        "       (54583.1405, 1.13658e-16, 3.035804e-18, 'bessellR'),\n",
        "       (54585.16881, 1.058766e-16, 4.193186e-18, 'bessellR'),\n",
        "       (54590.1659, 1e-16, 3.77624e-18, 'bessellR'),\n",
        "       (54593.15713, 8.822669e-17, 3.006612e-18, 'bessellR'),\n",
        "       (54594.15625, 8.87156e-17, 3.676954e-18, 'bessellR'),\n",
        "       (54597.16552, 8.574326e-17, 3.474788e-18, 'bessellR'),\n",
        "       (54603.14835, 8.0094e-17, 5.975314e-18, 'bessellR'),\n",
        "       (54615.14566, 5.921067e-17, 3.435708e-18, 'bessellR')], \n",
        "      dtype=[('time', '<f8'), ('flux', '<f8'), ('fluxerr', '<f8'), ('band', 'S8')])"
       ]
      }
     ],
     "prompt_number": 30
    },
    {
     "cell_type": "markdown",
     "metadata": {},
     "source": [
      "Here is a comparison of synthetic photometry photometry from SNCosmo's interpolated time series spectra, and\n",
      "the photometry. Note that SNCosmo does not calculate fluxes in ergs/cm^2/sec but in counts/cm^2/sec. So, the\n",
      "comparison is done with a branch of SNCosmo in https://github.com/rbiswas4/sncosmo/tree/CC_templates (27fbf6db25d1474ed1fb4cfbe7fd8ff680e9e4dc). So for the rest of this notebook to work you need to install this particular branch of SNCosmo. \n",
      "\n",
      "Note\n",
      "----\n",
      "There is a factor of 1000, that I have not managed to track down yet that is different between the photometry and the synthetic photometry flux values. "
     ]
    },
    {
     "cell_type": "code",
     "collapsed": false,
     "input": [
      "def _plotPhotometry(band):\n",
      "    photometry = mysource.getPhotometry(photometryDirectory, filterList=[band])\n",
      "    fig, ax = plt.subplots()\n",
      "    ax.plot(photometry['time'], model.bandflux(time=np.asarray(photometry['time']), band=np.asarray(photometry['band']))/1000., 'bs')\n",
      "    ax.errorbar(photometry['time'], photometry['flux'], photometry['fluxerr'], fmt='r.')\n",
      "    ax.grid(True)\n",
      "    return fig"
     ],
     "language": "python",
     "metadata": {},
     "outputs": [],
     "prompt_number": 31
    },
    {
     "cell_type": "code",
     "collapsed": false,
     "input": [
      "figB = _plotPhotometry('B')"
     ],
     "language": "python",
     "metadata": {},
     "outputs": [
      {
       "metadata": {},
       "output_type": "display_data",
       "png": "[encoded data removed]",
       "text": [
        "<matplotlib.figure.Figure at 0x1090e5490>"
       ]
      }
     ],
     "prompt_number": 32
    },
    {
     "cell_type": "code",
     "collapsed": false,
     "input": [
      "figV= _plotPhotometry('V')"
     ],
     "language": "python",
     "metadata": {},
     "outputs": [
      {
       "metadata": {},
       "output_type": "display_data",
       "png": "[encoded data removed]",
       "text": [
        "<matplotlib.figure.Figure at 0x1080bdad0>"
       ]
      }
     ],
     "prompt_number": 33
    },
    {
     "cell_type": "markdown",
     "metadata": {},
     "source": [
      "The difference in the two bands between the red (photometry files) and the blue (synthetic photometry) from the SNCosmo source\n",
      "probably shows the problems with interpolation of the spectra. In the coming days, we will check a few different things which \n",
      "we will list in a document and issues in this repository."
     ]
    }
   ],
   "metadata": {}
  }
 ]
}