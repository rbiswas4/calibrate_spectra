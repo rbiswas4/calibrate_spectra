{
 "metadata": {
  "name": "",
  "signature": "sha256:16efbe06f471d11ccc4bfc925cd21687c909ef5287d8918cbe9fd546f107fe01"
 },
 "nbformat": 3,
 "nbformat_minor": 0,
 "worksheets": [
  {
   "cells": [
    {
     "cell_type": "code",
     "collapsed": false,
     "input": [
      "import os"
     ],
     "language": "python",
     "metadata": {},
     "outputs": [],
     "prompt_number": 1
    },
    {
     "cell_type": "code",
     "collapsed": false,
     "input": [
      "import numpy as np"
     ],
     "language": "python",
     "metadata": {},
     "outputs": [],
     "prompt_number": 2
    },
    {
     "cell_type": "code",
     "collapsed": false,
     "input": [
      "%matplotlib inline\n",
      "import matplotlib.pyplot as plt\n",
      "# import seaborn as sns\n",
      "# sns.set()"
     ],
     "language": "python",
     "metadata": {},
     "outputs": [],
     "prompt_number": 3
    },
    {
     "cell_type": "code",
     "collapsed": false,
     "input": [
      "import sncosmo"
     ],
     "language": "python",
     "metadata": {},
     "outputs": [],
     "prompt_number": 4
    },
    {
     "cell_type": "code",
     "collapsed": false,
     "input": [
      "from astropy.table import Column"
     ],
     "language": "python",
     "metadata": {},
     "outputs": [],
     "prompt_number": 5
    },
    {
     "cell_type": "code",
     "collapsed": false,
     "input": [
      "import transientSources.transients as ts\n",
      "example_data =  os.path.join(os.path.split(ts.__file__)[0], 'example_data')"
     ],
     "language": "python",
     "metadata": {},
     "outputs": [],
     "prompt_number": 6
    },
    {
     "cell_type": "code",
     "collapsed": false,
     "input": [
      "location = os.path.join(example_data, '2007uy/cfa_2007uy')"
     ],
     "language": "python",
     "metadata": {},
     "outputs": [],
     "prompt_number": 7
    },
    {
     "cell_type": "markdown",
     "metadata": {},
     "source": [
      "The representation of the astrophysical object in terms of the spectra provided is in TransientObject"
     ]
    },
    {
     "cell_type": "code",
     "collapsed": false,
     "input": [
      "help(ts.TransientObject)"
     ],
     "language": "python",
     "metadata": {},
     "outputs": [
      {
       "output_type": "stream",
       "stream": "stdout",
       "text": [
        "Help on class TransientObject in module transientSources.transients:\n",
        "\n",
        "class TransientObject(__builtin__.object)\n",
        " |  Methods defined here:\n",
        " |  \n",
        " |  __init__(self, name, spectral_data, matched_spectra, days, data_fnames=None, mangled_fnames=None)\n",
        " |      Constructor\n",
        " |      \n",
        " |      Parameters\n",
        " |      ----------\n",
        " |      name: string, mandatory\n",
        " |          name of the source, convention is author/compilation/code hyphen\n",
        " |          IAU name\n",
        " |      spectral_data: list of 2-D `np.ndarray` of floats\n",
        " |          list of all the spectral data available corresponding to the object.\n",
        " |          Each `np.ndarray` has columns of wavelength and specific flux in\n",
        " |          units of Ang and arbitrary units respectively\n",
        " |      matched_spectra: list of 2-D `np.ndarray` of floats \n",
        " |          list of all of the 'mangled' spectral data matched to the\n",
        " |          photometry of the transient object, in the form of 2-D `np.ndarray`.\n",
        " |          The list of arrays is indexed identically to the `spectral data`.\n",
        " |          Each `np.ndarray` has columns wavelength in units of Ang, and\n",
        " |          specific flux ($f_\\lambda$) in units of ergs/cm^2/s/Ang. It is\n",
        " |          assumed that the wavelengths are indexed in ascending order.\n",
        " |      days: `np.ndarray` of floats\n",
        " |          days on which the spectral_data were taken in the same.  \n",
        " |      \n",
        " |      Returns\n",
        " |      -------\n",
        " |      instance of TransientObject class\n",
        " |      \n",
        " |      .. note :: 1. the wavelength gridding of the `mangled` matched spectra\n",
        " |      should be identical, and may differ from the wavelength gridding of the\n",
        " |      spectral_data of the object from which it was constructed. 2. The\n",
        " |      wavelengths in the matched spectra are assumed to be in increasing\n",
        " |      order.\n",
        " |  \n",
        " |  getPhotometry(self, dataDir, filterList=[])\n",
        " |  \n",
        " |  setphasePeak(self, value)\n",
        " |      # @phasePeak.setter\n",
        " |  \n",
        " |  validateWavelengths(self, verbose=False)\n",
        " |      Check that the wavelength grid of the `self.matched_spectra\n",
        " |      are identical to each other and that the wavelengths are\n",
        " |      in increasing order\n",
        " |  \n",
        " |  ----------------------------------------------------------------------\n",
        " |  Class methods defined here:\n",
        " |  \n",
        " |  fromDataDir(cls, name, spectralDataDir) from __builtin__.type\n",
        " |  \n",
        " |  ----------------------------------------------------------------------\n",
        " |  Static methods defined here:\n",
        " |  \n",
        " |  parse_mjds(mangledSpectraFileName)\n",
        " |  \n",
        " |  photometryTable(fname, filt, filterDict=None)\n",
        " |  \n",
        " |  ----------------------------------------------------------------------\n",
        " |  Data descriptors defined here:\n",
        " |  \n",
        " |  SNCosmoSource\n",
        " |  \n",
        " |  __dict__\n",
        " |      dictionary for instance variables (if defined)\n",
        " |  \n",
        " |  __weakref__\n",
        " |      list of weak references to the object (if defined)\n",
        " |  \n",
        " |  phasePeak\n",
        "\n"
       ]
      }
     ],
     "prompt_number": 8
    },
    {
     "cell_type": "code",
     "collapsed": false,
     "input": [
      "mysource = ts.TransientObject.fromDataDir(name='Karpenka-2007uy', spectralDataDir=location)"
     ],
     "language": "python",
     "metadata": {},
     "outputs": [],
     "prompt_number": 9
    },
    {
     "cell_type": "markdown",
     "metadata": {},
     "source": [
      "mysource is an instance of TransientObject that keeps track of how we built it. The attribute of mysource \n",
      "that is most interesting for our purpose is `SNCosmoSource`. This is the source which we will use to build \n",
      "SNCosmo Light curves. This is built from the restframe 'mangled' spectra provided by Natasha, and their phases\n",
      "which do not know where the 'peak' is. 2007uy is of Type Ib."
     ]
    },
    {
     "cell_type": "code",
     "collapsed": false,
     "input": [
      "print mysource.SNCosmoSource"
     ],
     "language": "python",
     "metadata": {},
     "outputs": [
      {
       "output_type": "stream",
       "stream": "stdout",
       "text": [
        "class      : TimeSeriesSource\n",
        "name       : 'Karpenka-2007uy'\n",
        "version    : None\n",
        "phases     : [-9.46827, .., 78.913] days\n",
        "wavelengths: [3454.82, .., 7369.95] Angstroms\n",
        "parameters:\n",
        "  amplitude = 1.0\n"
       ]
      }
     ],
     "prompt_number": 10
    },
    {
     "cell_type": "code",
     "collapsed": false,
     "input": [
      "peak = mysource.phasePeak\n",
      "print peak"
     ],
     "language": "python",
     "metadata": {},
     "outputs": [
      {
       "output_type": "stream",
       "stream": "stdout",
       "text": [
        "9.46826711652\n"
       ]
      }
     ],
     "prompt_number": 11
    },
    {
     "cell_type": "markdown",
     "metadata": {},
     "source": [
      "Without being told what the peak phase is, TransientObject calculates the peak phase to be at the restFrame 'besselB'\n",
      "band peak. Note that in the above instance, the peak has been calculated to 9.47, and so the spectra which originally\n",
      "had a date of 0. now has a phase of -9.47."
     ]
    },
    {
     "cell_type": "markdown",
     "metadata": {},
     "source": [
      "However,one can also set this peak if they have prior knowledge"
     ]
    },
    {
     "cell_type": "code",
     "collapsed": false,
     "input": [
      "mysource.setphasePeak(3.)"
     ],
     "language": "python",
     "metadata": {},
     "outputs": [],
     "prompt_number": 12
    },
    {
     "cell_type": "code",
     "collapsed": false,
     "input": [
      "print mysource.SNCosmoSource"
     ],
     "language": "python",
     "metadata": {},
     "outputs": [
      {
       "output_type": "stream",
       "stream": "stdout",
       "text": [
        "class      : TimeSeriesSource\n",
        "name       : 'Karpenka-2007uy'\n",
        "version    : None\n",
        "phases     : [-3, .., 85.3813] days\n",
        "wavelengths: [3454.82, .., 7369.95] Angstroms\n",
        "parameters:\n",
        "  amplitude = 1.0\n"
       ]
      }
     ],
     "prompt_number": 13
    },
    {
     "cell_type": "markdown",
     "metadata": {},
     "source": [
      "Note that now, the 0 phase is mapped to -3. in recognition of the \n",
      "fact that peak is at phase 3.0 of the supplied days."
     ]
    },
    {
     "cell_type": "markdown",
     "metadata": {},
     "source": [
      "Now we will set it back (assuming we don't know what the peak really is"
     ]
    },
    {
     "cell_type": "code",
     "collapsed": false,
     "input": [
      "mysource.setphasePeak(peak)"
     ],
     "language": "python",
     "metadata": {},
     "outputs": [],
     "prompt_number": 14
    },
    {
     "cell_type": "code",
     "collapsed": false,
     "input": [
      "print mysource.SNCosmoSource"
     ],
     "language": "python",
     "metadata": {},
     "outputs": [
      {
       "output_type": "stream",
       "stream": "stdout",
       "text": [
        "class      : TimeSeriesSource\n",
        "name       : 'Karpenka-2007uy'\n",
        "version    : None\n",
        "phases     : [-9.46827, .., 78.913] days\n",
        "wavelengths: [3454.82, .., 7369.95] Angstroms\n",
        "parameters:\n",
        "  amplitude = 1.0\n"
       ]
      }
     ],
     "prompt_number": 15
    },
    {
     "cell_type": "markdown",
     "metadata": {},
     "source": [
      "We can examine the minimum and maximum rest frame phases and wavelength"
     ]
    },
    {
     "cell_type": "code",
     "collapsed": false,
     "input": [
      "mysource.SNCosmoSource.minphase(), mysource.SNCosmoSource.maxphase()"
     ],
     "language": "python",
     "metadata": {},
     "outputs": [
      {
       "metadata": {},
       "output_type": "pyout",
       "prompt_number": 16,
       "text": [
        "(-9.4682671165156798, 78.91303288348432)"
       ]
      }
     ],
     "prompt_number": 16
    },
    {
     "cell_type": "code",
     "collapsed": false,
     "input": [
      "mysource.SNCosmoSource.minwave(), mysource.SNCosmoSource.maxwave()"
     ],
     "language": "python",
     "metadata": {},
     "outputs": [
      {
       "metadata": {},
       "output_type": "pyout",
       "prompt_number": 17,
       "text": [
        "(3454.8200000000002, 7369.9499999999998)"
       ]
      }
     ],
     "prompt_number": 17
    },
    {
     "cell_type": "markdown",
     "metadata": {},
     "source": [
      "This is one of the disadvantages related to single spectra (as opposed to ensembles) due to the lack of data (the rest of the\n",
      "notebook will show advantages of this approach in this regime of low data). \n",
      "- How do we use these models to simulate and fit SN at diffferent wavelengths and phases outside the range of the data?"
     ]
    },
    {
     "cell_type": "heading",
     "level": 2,
     "metadata": {},
     "source": [
      "Build  SNCosmo Model"
     ]
    },
    {
     "cell_type": "code",
     "collapsed": false,
     "input": [
      "model = sncosmo.Model(source=mysource.SNCosmoSource)"
     ],
     "language": "python",
     "metadata": {},
     "outputs": [],
     "prompt_number": 18
    },
    {
     "cell_type": "code",
     "collapsed": false,
     "input": [
      "print model"
     ],
     "language": "python",
     "metadata": {},
     "outputs": [
      {
       "output_type": "stream",
       "stream": "stdout",
       "text": [
        "<Model at 0x1090b8850>\n",
        "source:\n",
        "  class      : TimeSeriesSource\n",
        "  name       : 'Karpenka-2007uy'\n",
        "  version    : None\n",
        "  phases     : [-9.46827, .., 78.913] days\n",
        "  wavelengths: [3454.82, .., 7369.95] Angstroms\n",
        "parameters:\n",
        "  z         = 0.0\n",
        "  t0        = 0.0\n",
        "  amplitude = 1.0\n"
       ]
      }
     ],
     "prompt_number": 19
    },
    {
     "cell_type": "code",
     "collapsed": false,
     "input": [
      "#Set parameters to match the photometry \n",
      "# t0 is a guess provided for the peak of the observed photometry."
     ],
     "language": "python",
     "metadata": {},
     "outputs": [],
     "prompt_number": 20
    },
    {
     "cell_type": "code",
     "collapsed": false,
     "input": [
      "model.set(z=0.0007, t0=54478.)\n",
      "t0 =54478"
     ],
     "language": "python",
     "metadata": {},
     "outputs": [],
     "prompt_number": 21
    },
    {
     "cell_type": "heading",
     "level": 4,
     "metadata": {},
     "source": [
      "Look at the Model Spectra"
     ]
    },
    {
     "cell_type": "code",
     "collapsed": false,
     "input": [
      "waves = model._source._wave * (1.0 + 0.0007)"
     ],
     "language": "python",
     "metadata": {},
     "outputs": [],
     "prompt_number": 22
    },
    {
     "cell_type": "code",
     "collapsed": false,
     "input": [
      "fluxes = model.flux(time=np.arange(-5.+ t0, 10. + t0), wave=waves)"
     ],
     "language": "python",
     "metadata": {},
     "outputs": [],
     "prompt_number": 23
    },
    {
     "cell_type": "code",
     "collapsed": false,
     "input": [
      "fig = plt.figure()\n",
      "ax1 = fig.add_subplot(221)\n",
      "ax1.plot(waves, fluxes[0])\n",
      "ax2 = fig.add_subplot(222)\n",
      "for flux in fluxes:\n",
      "    ax2.plot(waves, flux)"
     ],
     "language": "python",
     "metadata": {},
     "outputs": [
      {
       "metadata": {},
       "output_type": "display_data",
       "png": "[encoded data removed]",
       "text": [
        "<matplotlib.figure.Figure at 0x1088375d0>"
       ]
      }
     ],
     "prompt_number": 24
    },
    {
     "cell_type": "markdown",
     "metadata": {},
     "source": [
      "The SEDs are single object, and are therefore noisy. It is possible to smooth them,\n",
      "if necessary. The right figure shows a bunch of the spectra. This is easier to see\n",
      "in animation."
     ]
    },
    {
     "cell_type": "code",
     "collapsed": false,
     "input": [
      "filtlist = ['bessellB', 'bessellV', 'bessellr', 'besselli']\n",
      "filtfig, ax = plt.subplots()\n",
      "for filt in filtlist:\n",
      "    bp = sncosmo.get_bandpass(filt)\n",
      "    ax.plot(bp.wave, bp.trans)\n",
      "    ax.plot(waves, fluxes[0]*1e15)"
     ],
     "language": "python",
     "metadata": {},
     "outputs": [
      {
       "metadata": {},
       "output_type": "display_data",
       "png": "[encoded data removed]",
       "text": [
        "<matplotlib.figure.Figure at 0x10947edd0>"
       ]
      }
     ],
     "prompt_number": 25
    },
    {
     "cell_type": "markdown",
     "metadata": {},
     "source": [
      "The Bessell filters I am using and the spectra (multiplied by a constant to\n",
      "show on the figure). B, V are overlapped by the spectrum, i and r have support\n",
      "outside the wavlength range of spectrum, and therefore band fluxes cannot be\n",
      "computed."
     ]
    },
    {
     "cell_type": "heading",
     "level": 2,
     "metadata": {},
     "source": [
      "Animation of the spectral series: comparison with other templates"
     ]
    },
    {
     "cell_type": "markdown",
     "metadata": {},
     "source": [
      "Warning\n",
      "-------\n",
      "\n",
      "Slowest section of the Notebook, and hence commented out, as nothing else depends on the output and I have added the output files for viewing. To run, uncomment the lines and run them but it might take a few minutes. Also you might need to have ffmpeg\n",
      "encoder"
     ]
    },
    {
     "cell_type": "markdown",
     "metadata": {},
     "source": [
      "We will compare the evolution of the spectral series with Ia (SALT2) and other templates for Ib /Ibc. Nugent Template\n",
      "is a template for Type Ibc built from an ensemble of objects. The other three templates are the Nugent template matched\n",
      "to the photometry of these SN: 2005hl, 2005hm and 2006jo. These were first referenced in Sako, 2011, and the code to do\n",
      "this was probably made by Saurabh Jha. "
     ]
    },
    {
     "cell_type": "code",
     "collapsed": false,
     "input": [
      "# saltsource = sncosmo.Model(source='salt2')._source\n",
      "# nugent_1bc = sncosmo.Model(source='nugent-sn1bc')._source\n",
      "# sn_2005_hl = sncosmo.Model(source='s11-2005hl')._source\n",
      "# sn_2005_hm = sncosmo.Model(source='s11-2005hm')._source\n",
      "# sn_2006_jo = sncosmo.Model(source='s11-2006jo')._source"
     ],
     "language": "python",
     "metadata": {},
     "outputs": [],
     "prompt_number": 26
    },
    {
     "cell_type": "code",
     "collapsed": false,
     "input": [
      "# test = sncosmo.animate_source([mysource.SNCosmoSource, saltsource, nugent_1bc, sn_2005_hl, sn_2005_hm, sn_2006_jo], \n",
      "#                              label=['Karpenka_2007_uy', 'salt2', 'NugentIbc', '2005_hl', '2005_hm', '2006_jo'],\n",
      "#                              fname='Karpenka_comparison.mp4')"
     ],
     "language": "python",
     "metadata": {},
     "outputs": [],
     "prompt_number": 27
    },
    {
     "cell_type": "heading",
     "level": 2,
     "metadata": {},
     "source": [
      "Compare photometry"
     ]
    },
    {
     "cell_type": "markdown",
     "metadata": {},
     "source": [
      "Given the current directory structure, we have a getPhotometry() method, that loads the photometry into\n",
      "an astropy Table. This is illustrated below. Note that the fluxes are in units of `ergs/cm^2/sec`."
     ]
    },
    {
     "cell_type": "code",
     "collapsed": false,
     "input": [
      "photometryDirectory = os.path.join(example_data, '2007uy/')\n",
      "photometry = mysource.getPhotometry(photometryDirectory, filterList=['B', 'V', 'i', 'r'])"
     ],
     "language": "python",
     "metadata": {},
     "outputs": [],
     "prompt_number": 28
    },
    {
     "cell_type": "markdown",
     "metadata": {},
     "source": [
      "Here is a comparison of synthetic photometry photometry from SNCosmo's interpolated time series spectra, and\n",
      "the photometry. Note that SNCosmo does not calculate fluxes in ergs/cm^2/sec but in counts/cm^2/sec. So, the\n",
      "comparison is done with a branch of SNCosmo in https://github.com/rbiswas4/sncosmo/tree/CC_templates (27fbf6db25d1474ed1fb4cfbe7fd8ff680e9e4dc). So for the rest of this notebook to work you need to install this particular branch of SNCosmo. "
     ]
    },
    {
     "cell_type": "code",
     "collapsed": false,
     "input": [
      "# There is a factor of 1000, that I have not managed to track down yet that is different between the photometry and the synthetic photometry flux values. Fixed"
     ],
     "language": "python",
     "metadata": {},
     "outputs": [],
     "prompt_number": 29
    },
    {
     "cell_type": "code",
     "collapsed": false,
     "input": [
      "def renorm_bp(band):\n",
      "    \n",
      "    b = sncosmo.get_bandpass(band)\n",
      "    norm = np.sum(b.trans * b.dwave) \n",
      "    bp = sncosmo.Bandpass(wave=b.wave, trans=b.trans/norm)\n",
      "    return bp"
     ],
     "language": "python",
     "metadata": {},
     "outputs": [],
     "prompt_number": 30
    },
    {
     "cell_type": "code",
     "collapsed": false,
     "input": [
      "def _plotPhotometry(band):\n",
      "    photometry = mysource.getPhotometry(photometryDirectory, filterList=[band])\n",
      "    col = Column(name='ren', data=map(renorm_bp, np.asarray(photometry['band'])) )\n",
      "    photometry.add_column(col)\n",
      "    fig, ax = plt.subplots()\n",
      "    # bp = sncosmo.get_bandpass()\n",
      "    ax.plot(photometry['time'], model.bandflux(time=np.asarray(photometry['time']), band=np.asarray(photometry['ren'])), 'bs')\n",
      "    ax.errorbar(photometry['time'], photometry['flux'], photometry['fluxerr'], fmt='r.')\n",
      "    ax.grid(True)\n",
      "    return fig"
     ],
     "language": "python",
     "metadata": {},
     "outputs": [],
     "prompt_number": 31
    },
    {
     "cell_type": "code",
     "collapsed": false,
     "input": [
      "figB = _plotPhotometry('B')"
     ],
     "language": "python",
     "metadata": {},
     "outputs": [
      {
       "metadata": {},
       "output_type": "display_data",
       "png": "[encoded data removed]",
       "text": [
        "<matplotlib.figure.Figure at 0x10961ff10>"
       ]
      }
     ],
     "prompt_number": 34
    },
    {
     "cell_type": "code",
     "collapsed": false,
     "input": [
      "figV= _plotPhotometry('V')"
     ],
     "language": "python",
     "metadata": {},
     "outputs": [
      {
       "metadata": {},
       "output_type": "display_data",
       "png": "[encoded data removed]",
       "text": [
        "<matplotlib.figure.Figure at 0x1088e6750>"
       ]
      }
     ],
     "prompt_number": 35
    },
    {
     "cell_type": "markdown",
     "metadata": {},
     "source": [
      "The difference in the two bands between the red (photometry files) and the blue (synthetic photometry) from the SNCosmo source\n",
      "probably shows the problems with interpolation of the spectra. In the coming days, we will check a few different things which \n",
      "we will list in a document and issues in this repository."
     ]
    },
    {
     "cell_type": "heading",
     "level": 2,
     "metadata": {},
     "source": [
      "Compare Spectra"
     ]
    },
    {
     "cell_type": "code",
     "collapsed": false,
     "input": [
      "photometry[photometry['band'] == 'bessellB']['time']"
     ],
     "language": "python",
     "metadata": {},
     "outputs": [
      {
       "metadata": {},
       "output_type": "pyout",
       "prompt_number": 36,
       "text": [
        "<Column name='time' unit=None format=None description=None>\n",
        "array([ 54470.4849 ,  54474.44575,  54475.41519,  54476.44191,\n",
        "        54477.36835,  54478.39779,  54480.39863,  54481.51614,\n",
        "        54482.44583,  54483.28662,  54484.37214,  54485.41593,\n",
        "        54494.47464,  54495.37244,  54496.34629,  54497.40503,\n",
        "        54498.31737,  54499.35969,  54502.44801,  54503.35462,\n",
        "        54504.38009,  54505.42428,  54507.22459,  54509.285  ,\n",
        "        54510.17176,  54520.26501,  54523.25317,  54524.28575,\n",
        "        54531.14281,  54536.16857,  54537.162  ,  54539.12879,\n",
        "        54547.11476,  54553.13621,  54558.11259,  54569.14075,\n",
        "        54572.17755,  54579.13353,  54583.14883,  54585.17736,\n",
        "        54590.17338,  54593.1657 ,  54594.16508,  54597.17349,\n",
        "        54611.16118,  54615.1524 ])"
       ]
      }
     ],
     "prompt_number": 36
    },
    {
     "cell_type": "code",
     "collapsed": false,
     "input": [
      "mysource.SNCosmoSource._phase + model.get('t0')"
     ],
     "language": "python",
     "metadata": {},
     "outputs": [
      {
       "metadata": {},
       "output_type": "pyout",
       "prompt_number": 37,
       "text": [
        "array([ 54468.53173288,  54470.51783288,  54475.48307288,  54476.47612288,\n",
        "        54478.46222288,  54494.35103288,  54527.12163288,  54536.05903288,\n",
        "        54556.91303288])"
       ]
      }
     ],
     "prompt_number": 37
    },
    {
     "cell_type": "code",
     "collapsed": false,
     "input": [
      "mysource.data_fnames"
     ],
     "language": "python",
     "metadata": {},
     "outputs": []
    },
    {
     "cell_type": "code",
     "collapsed": false,
     "input": [],
     "language": "python",
     "metadata": {},
     "outputs": []
    }
   ],
   "metadata": {}
  }
 ]
}