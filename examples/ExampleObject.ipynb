{
 "metadata": {
  "name": "",
  "signature": "sha256:d6ea77f18e62b77a0e4eabcbc4a70af9923c739ca9cb2c8f4871736fe476e54a"
 },
 "nbformat": 3,
 "nbformat_minor": 0,
 "worksheets": [
  {
   "cells": [
    {
     "cell_type": "code",
     "collapsed": false,
     "input": [
      "import os"
     ],
     "language": "python",
     "metadata": {},
     "outputs": [],
     "prompt_number": 44
    },
    {
     "cell_type": "code",
     "collapsed": false,
     "input": [
      "import numpy as np"
     ],
     "language": "python",
     "metadata": {},
     "outputs": [],
     "prompt_number": 45
    },
    {
     "cell_type": "code",
     "collapsed": false,
     "input": [
      "%matplotlib inline\n",
      "import matplotlib.pyplot as plt\n",
      "# import seaborn as sns\n",
      "# sns.set()"
     ],
     "language": "python",
     "metadata": {},
     "outputs": [],
     "prompt_number": 46
    },
    {
     "cell_type": "code",
     "collapsed": false,
     "input": [
      "import sncosmo"
     ],
     "language": "python",
     "metadata": {},
     "outputs": [],
     "prompt_number": 47
    },
    {
     "cell_type": "code",
     "collapsed": false,
     "input": [
      "from astropy.table import Column"
     ],
     "language": "python",
     "metadata": {},
     "outputs": [],
     "prompt_number": 48
    },
    {
     "cell_type": "code",
     "collapsed": false,
     "input": [
      "import transientSources.transients as ts\n",
      "example_data =  os.path.join(os.path.split(ts.__file__)[0], 'example_data')"
     ],
     "language": "python",
     "metadata": {},
     "outputs": [],
     "prompt_number": 49
    },
    {
     "cell_type": "code",
     "collapsed": false,
     "input": [
      "location = os.path.join(example_data, '2007uy/cfa_2007uy')"
     ],
     "language": "python",
     "metadata": {},
     "outputs": [],
     "prompt_number": 50
    },
    {
     "cell_type": "markdown",
     "metadata": {},
     "source": [
      "The representation of the astrophysical object in terms of the spectra provided is in TransientObject"
     ]
    },
    {
     "cell_type": "code",
     "collapsed": false,
     "input": [
      "help(ts.TransientObject)"
     ],
     "language": "python",
     "metadata": {},
     "outputs": [
      {
       "output_type": "stream",
       "stream": "stdout",
       "text": [
        "Help on class TransientObject in module transientSources.transients:\n",
        "\n",
        "class TransientObject(__builtin__.object)\n",
        " |  Methods defined here:\n",
        " |  \n",
        " |  __init__(self, name, spectral_data, matched_spectra, days, data_fnames=None, mangled_fnames=None)\n",
        " |      Constructor\n",
        " |      \n",
        " |      Parameters\n",
        " |      ----------\n",
        " |      name: string, mandatory\n",
        " |          name of the source, convention is author/compilation/code hyphen\n",
        " |          IAU name\n",
        " |      spectral_data: list of 2-D `np.ndarray` of floats\n",
        " |          list of all the spectral data available corresponding to the object.\n",
        " |          Each `np.ndarray` has columns of wavelength and specific flux in\n",
        " |          units of Ang and arbitrary units respectively\n",
        " |      matched_spectra: list of 2-D `np.ndarray` of floats \n",
        " |          list of all of the 'mangled' spectral data matched to the\n",
        " |          photometry of the transient object, in the form of 2-D `np.ndarray`.\n",
        " |          The list of arrays is indexed identically to the `spectral data`.\n",
        " |          Each `np.ndarray` has columns wavelength in units of Ang, and\n",
        " |          specific flux ($f_\\lambda$) in units of ergs/cm^2/s/Ang. It is\n",
        " |          assumed that the wavelengths are indexed in ascending order.\n",
        " |      days: `np.ndarray` of floats\n",
        " |          days on which the spectral_data were taken in the same.  \n",
        " |      \n",
        " |      Returns\n",
        " |      -------\n",
        " |      instance of TransientObject class\n",
        " |      \n",
        " |      .. note :: 1. the wavelength gridding of the `mangled` matched spectra\n",
        " |      should be identical, and may differ from the wavelength gridding of the\n",
        " |      spectral_data of the object from which it was constructed. 2. The\n",
        " |      wavelengths in the matched spectra are assumed to be in increasing\n",
        " |      order.\n",
        " |  \n",
        " |  getPhotometry(self, dataDir, filterList=[])\n",
        " |  \n",
        " |  setphasePeak(self, value)\n",
        " |      # @phasePeak.setter\n",
        " |  \n",
        " |  validateWavelengths(self, verbose=False)\n",
        " |      Check that the wavelength grid of the `self.matched_spectra\n",
        " |      are identical to each other and that the wavelengths are\n",
        " |      in increasing order\n",
        " |  \n",
        " |  ----------------------------------------------------------------------\n",
        " |  Class methods defined here:\n",
        " |  \n",
        " |  fromDataDir(cls, name, spectralDataDir) from __builtin__.type\n",
        " |  \n",
        " |  ----------------------------------------------------------------------\n",
        " |  Static methods defined here:\n",
        " |  \n",
        " |  parse_mjds(mangledSpectraFileName)\n",
        " |  \n",
        " |  photometryTable(fname, filt, filterDict=None)\n",
        " |  \n",
        " |  ----------------------------------------------------------------------\n",
        " |  Data descriptors defined here:\n",
        " |  \n",
        " |  SNCosmoSource\n",
        " |  \n",
        " |  __dict__\n",
        " |      dictionary for instance variables (if defined)\n",
        " |  \n",
        " |  __weakref__\n",
        " |      list of weak references to the object (if defined)\n",
        " |  \n",
        " |  phasePeak\n",
        "\n"
       ]
      }
     ],
     "prompt_number": 51
    },
    {
     "cell_type": "code",
     "collapsed": false,
     "input": [
      "mysource = ts.TransientObject.fromDataDir(name='Karpenka-2007uy', spectralDataDir=location)"
     ],
     "language": "python",
     "metadata": {},
     "outputs": [],
     "prompt_number": 52
    },
    {
     "cell_type": "markdown",
     "metadata": {},
     "source": [
      "mysource is an instance of TransientObject that keeps track of how we built it. The attribute of mysource \n",
      "that is most interesting for our purpose is `SNCosmoSource`. This is the source which we will use to build \n",
      "SNCosmo Light curves. This is built from the restframe 'mangled' spectra provided by Natasha, and their phases\n",
      "which do not know where the 'peak' is. 2007uy is of Type Ib."
     ]
    },
    {
     "cell_type": "code",
     "collapsed": false,
     "input": [
      "print mysource.SNCosmoSource"
     ],
     "language": "python",
     "metadata": {},
     "outputs": [
      {
       "output_type": "stream",
       "stream": "stdout",
       "text": [
        "class      : TimeSeriesSource\n",
        "name       : 'Karpenka-2007uy'\n",
        "version    : None\n",
        "phases     : [-9.46827, .., 78.913] days\n",
        "wavelengths: [3454.82, .., 7369.95] Angstroms\n",
        "parameters:\n",
        "  amplitude = 1.0\n"
       ]
      }
     ],
     "prompt_number": 53
    },
    {
     "cell_type": "code",
     "collapsed": false,
     "input": [
      "peak = mysource.phasePeak\n",
      "print peak"
     ],
     "language": "python",
     "metadata": {},
     "outputs": [
      {
       "output_type": "stream",
       "stream": "stdout",
       "text": [
        "9.46826711652\n"
       ]
      }
     ],
     "prompt_number": 54
    },
    {
     "cell_type": "markdown",
     "metadata": {},
     "source": [
      "Without being told what the peak phase is, TransientObject calculates the peak phase to be at the restFrame 'besselB'\n",
      "band peak. Note that in the above instance, the peak has been calculated to 9.47, and so the spectra which originally\n",
      "had a date of 0. now has a phase of -9.47."
     ]
    },
    {
     "cell_type": "markdown",
     "metadata": {},
     "source": [
      "However,one can also set this peak if they have prior knowledge"
     ]
    },
    {
     "cell_type": "code",
     "collapsed": false,
     "input": [
      "mysource.setphasePeak(3.)"
     ],
     "language": "python",
     "metadata": {},
     "outputs": [],
     "prompt_number": 55
    },
    {
     "cell_type": "code",
     "collapsed": false,
     "input": [
      "print mysource.SNCosmoSource"
     ],
     "language": "python",
     "metadata": {},
     "outputs": [
      {
       "output_type": "stream",
       "stream": "stdout",
       "text": [
        "class      : TimeSeriesSource\n",
        "name       : 'Karpenka-2007uy'\n",
        "version    : None\n",
        "phases     : [-3, .., 85.3813] days\n",
        "wavelengths: [3454.82, .., 7369.95] Angstroms\n",
        "parameters:\n",
        "  amplitude = 1.0\n"
       ]
      }
     ],
     "prompt_number": 56
    },
    {
     "cell_type": "markdown",
     "metadata": {},
     "source": [
      "Note that now, the 0 phase is mapped to -3. in recognition of the \n",
      "fact that peak is at phase 3.0 of the supplied days."
     ]
    },
    {
     "cell_type": "markdown",
     "metadata": {},
     "source": [
      "Now we will set it back (assuming we don't know what the peak really is"
     ]
    },
    {
     "cell_type": "code",
     "collapsed": false,
     "input": [
      "mysource.setphasePeak(peak)"
     ],
     "language": "python",
     "metadata": {},
     "outputs": [],
     "prompt_number": 57
    },
    {
     "cell_type": "code",
     "collapsed": false,
     "input": [
      "print mysource.SNCosmoSource"
     ],
     "language": "python",
     "metadata": {},
     "outputs": [
      {
       "output_type": "stream",
       "stream": "stdout",
       "text": [
        "class      : TimeSeriesSource\n",
        "name       : 'Karpenka-2007uy'\n",
        "version    : None\n",
        "phases     : [-9.46827, .., 78.913] days\n",
        "wavelengths: [3454.82, .., 7369.95] Angstroms\n",
        "parameters:\n",
        "  amplitude = 1.0\n"
       ]
      }
     ],
     "prompt_number": 58
    },
    {
     "cell_type": "markdown",
     "metadata": {},
     "source": [
      "We can examine the minimum and maximum rest frame phases and wavelength"
     ]
    },
    {
     "cell_type": "code",
     "collapsed": false,
     "input": [
      "mysource.SNCosmoSource.minphase(), mysource.SNCosmoSource.maxphase()"
     ],
     "language": "python",
     "metadata": {},
     "outputs": [
      {
       "metadata": {},
       "output_type": "pyout",
       "prompt_number": 59,
       "text": [
        "(-9.4682671165156798, 78.91303288348432)"
       ]
      }
     ],
     "prompt_number": 59
    },
    {
     "cell_type": "code",
     "collapsed": false,
     "input": [
      "mysource.SNCosmoSource.minwave(), mysource.SNCosmoSource.maxwave()"
     ],
     "language": "python",
     "metadata": {},
     "outputs": [
      {
       "metadata": {},
       "output_type": "pyout",
       "prompt_number": 60,
       "text": [
        "(3454.8200000000002, 7369.9499999999998)"
       ]
      }
     ],
     "prompt_number": 60
    },
    {
     "cell_type": "markdown",
     "metadata": {},
     "source": [
      "This is one of the disadvantages related to single spectra (as opposed to ensembles) due to the lack of data (the rest of the\n",
      "notebook will show advantages of this approach in this regime of low data). \n",
      "- How do we use these models to simulate and fit SN at diffferent wavelengths and phases outside the range of the data?"
     ]
    },
    {
     "cell_type": "heading",
     "level": 2,
     "metadata": {},
     "source": [
      "Build  SNCosmo Model"
     ]
    },
    {
     "cell_type": "code",
     "collapsed": false,
     "input": [
      "model = sncosmo.Model(source=mysource.SNCosmoSource)"
     ],
     "language": "python",
     "metadata": {},
     "outputs": [],
     "prompt_number": 61
    },
    {
     "cell_type": "code",
     "collapsed": false,
     "input": [
      "print model"
     ],
     "language": "python",
     "metadata": {},
     "outputs": [
      {
       "output_type": "stream",
       "stream": "stdout",
       "text": [
        "<Model at 0x10af16ad0>\n",
        "source:\n",
        "  class      : TimeSeriesSource\n",
        "  name       : 'Karpenka-2007uy'\n",
        "  version    : None\n",
        "  phases     : [-9.46827, .., 78.913] days\n",
        "  wavelengths: [3454.82, .., 7369.95] Angstroms\n",
        "parameters:\n",
        "  z         = 0.0\n",
        "  t0        = 0.0\n",
        "  amplitude = 1.0\n"
       ]
      }
     ],
     "prompt_number": 62
    },
    {
     "cell_type": "code",
     "collapsed": false,
     "input": [
      "#Set parameters to match the photometry \n",
      "# t0 is a guess provided for the peak of the observed photometry."
     ],
     "language": "python",
     "metadata": {},
     "outputs": [],
     "prompt_number": 63
    },
    {
     "cell_type": "code",
     "collapsed": false,
     "input": [
      "t0 =54478\n",
      "model.set(z=0.0007, t0=54478.)"
     ],
     "language": "python",
     "metadata": {},
     "outputs": [],
     "prompt_number": 64
    },
    {
     "cell_type": "heading",
     "level": 4,
     "metadata": {},
     "source": [
      "Look at the Model Spectra"
     ]
    },
    {
     "cell_type": "code",
     "collapsed": false,
     "input": [
      "waves = model._source._wave * (1.0 + 0.0007)"
     ],
     "language": "python",
     "metadata": {},
     "outputs": [],
     "prompt_number": 65
    },
    {
     "cell_type": "code",
     "collapsed": false,
     "input": [
      "fluxes = model.flux(time=np.arange(-5.+ t0, 10. + t0), wave=waves)"
     ],
     "language": "python",
     "metadata": {},
     "outputs": [],
     "prompt_number": 66
    },
    {
     "cell_type": "code",
     "collapsed": false,
     "input": [
      "fig = plt.figure()\n",
      "ax1 = fig.add_subplot(221)\n",
      "ax1.plot(waves, fluxes[0])\n",
      "ax2 = fig.add_subplot(222)\n",
      "for flux in fluxes:\n",
      "    ax2.plot(waves, flux)"
     ],
     "language": "python",
     "metadata": {},
     "outputs": [
      {
       "metadata": {},
       "output_type": "display_data",
       "png": "[encoded data removed]",
       "text": [
        "<matplotlib.figure.Figure at 0x10af21b50>"
       ]
      }
     ],
     "prompt_number": 67
    },
    {
     "cell_type": "markdown",
     "metadata": {},
     "source": [
      "The SEDs are single object, and are therefore noisy. It is possible to smooth them,\n",
      "if necessary. The right figure shows a bunch of the spectra. This is easier to see\n",
      "in animation."
     ]
    },
    {
     "cell_type": "code",
     "collapsed": false,
     "input": [
      "filtlist = ['bessellB', 'bessellV', 'bessellr', 'besselli']\n",
      "filtfig, ax = plt.subplots()\n",
      "for filt in filtlist:\n",
      "    bp = sncosmo.get_bandpass(filt)\n",
      "    ax.plot(bp.wave, bp.trans)\n",
      "    ax.plot(waves, fluxes[0]*1e15)"
     ],
     "language": "python",
     "metadata": {},
     "outputs": [
      {
       "metadata": {},
       "output_type": "display_data",
       "png": "[encoded data removed]",
       "text": [
        "<matplotlib.figure.Figure at 0x109fb9f90>"
       ]
      }
     ],
     "prompt_number": 68
    },
    {
     "cell_type": "markdown",
     "metadata": {},
     "source": [
      "The Bessell filters I am using and the spectra (multiplied by a constant to\n",
      "show on the figure). B, V are overlapped by the spectrum, i and r have support\n",
      "outside the wavlength range of spectrum, and therefore band fluxes cannot be\n",
      "computed."
     ]
    },
    {
     "cell_type": "heading",
     "level": 2,
     "metadata": {},
     "source": [
      "Animation of the spectral series: comparison with other templates"
     ]
    },
    {
     "cell_type": "markdown",
     "metadata": {},
     "source": [
      "Warning\n",
      "-------\n",
      "\n",
      "Slowest section of the Notebook, and hence commented out, as nothing else depends on the output and I have added the output files for viewing. To run, uncomment the lines and run them but it might take a few minutes. Also you might need to have ffmpeg\n",
      "encoder"
     ]
    },
    {
     "cell_type": "markdown",
     "metadata": {},
     "source": [
      "We will compare the evolution of the spectral series with Ia (SALT2) and other templates for Ib /Ibc. Nugent Template\n",
      "is a template for Type Ibc built from an ensemble of objects. The other three templates are the Nugent template matched\n",
      "to the photometry of these SN: 2005hl, 2005hm and 2006jo. These were first referenced in Sako, 2011, and the code to do\n",
      "this was probably made by Saurabh Jha. "
     ]
    },
    {
     "cell_type": "code",
     "collapsed": false,
     "input": [
      "# saltsource = sncosmo.Model(source='salt2')._source\n",
      "# nugent_1bc = sncosmo.Model(source='nugent-sn1bc')._source\n",
      "# sn_2005_hl = sncosmo.Model(source='s11-2005hl')._source\n",
      "# sn_2005_hm = sncosmo.Model(source='s11-2005hm')._source\n",
      "# sn_2006_jo = sncosmo.Model(source='s11-2006jo')._source"
     ],
     "language": "python",
     "metadata": {},
     "outputs": [],
     "prompt_number": 69
    },
    {
     "cell_type": "code",
     "collapsed": false,
     "input": [
      "# test = sncosmo.animate_source([mysource.SNCosmoSource, saltsource, nugent_1bc, sn_2005_hl, sn_2005_hm, sn_2006_jo], \n",
      "#                              label=['Karpenka_2007_uy', 'salt2', 'NugentIbc', '2005_hl', '2005_hm', '2006_jo'],\n",
      "#                              fname='Karpenka_comparison.mp4')"
     ],
     "language": "python",
     "metadata": {},
     "outputs": [],
     "prompt_number": 70
    },
    {
     "cell_type": "heading",
     "level": 2,
     "metadata": {},
     "source": [
      "Compare photometry"
     ]
    },
    {
     "cell_type": "markdown",
     "metadata": {},
     "source": [
      "Given the current directory structure, we have a getPhotometry() method, that loads the photometry into\n",
      "an astropy Table. This is illustrated below. Note that the fluxes are in units of `ergs/cm^2/sec`."
     ]
    },
    {
     "cell_type": "code",
     "collapsed": false,
     "input": [
      "photometryDirectory = os.path.join(example_data, '2007uy/')\n",
      "photometry = mysource.getPhotometry(photometryDirectory, filterList=['B', 'V', 'i', 'r'])"
     ],
     "language": "python",
     "metadata": {},
     "outputs": [],
     "prompt_number": 71
    },
    {
     "cell_type": "markdown",
     "metadata": {},
     "source": [
      "Here is a comparison of synthetic photometry photometry from SNCosmo's interpolated time series spectra, and\n",
      "the photometry. Note that SNCosmo does not calculate fluxes in ergs/cm^2/sec but in counts/cm^2/sec. So, the\n",
      "comparison is done with a branch of SNCosmo in https://github.com/rbiswas4/sncosmo/tree/CC_templates (27fbf6db25d1474ed1fb4cfbe7fd8ff680e9e4dc). So for the rest of this notebook to work you need to install this particular branch of SNCosmo. "
     ]
    },
    {
     "cell_type": "markdown",
     "metadata": {},
     "source": [
      "There is a factor of 1000, that I have not managed to track down yet that is different between the photometry and the synthetic photometry flux values. \n",
      "\n",
      "-  Fixed no longer a  problem"
     ]
    },
    {
     "cell_type": "code",
     "collapsed": false,
     "input": [
      "def renorm_bp(band):\n",
      "    \n",
      "    b = sncosmo.get_bandpass(band)\n",
      "    norm = np.sum(b.trans * b.dwave) \n",
      "    bp = sncosmo.Bandpass(wave=b.wave, trans=b.trans/norm)\n",
      "    return bp"
     ],
     "language": "python",
     "metadata": {},
     "outputs": [],
     "prompt_number": 73
    },
    {
     "cell_type": "code",
     "collapsed": false,
     "input": [
      "def _plotPhotometry(band):\n",
      "    photometry = mysource.getPhotometry(photometryDirectory, filterList=[band])\n",
      "    col = Column(name='ren', data=map(renorm_bp, np.asarray(photometry['band'])) )\n",
      "    photometry.add_column(col)\n",
      "    fig, ax = plt.subplots()\n",
      "    # bp = sncosmo.get_bandpass()\n",
      "    ax.plot(photometry['time'], model.bandflux(time=np.asarray(photometry['time']), band=np.asarray(photometry['ren'])), 'rs')\n",
      "    ax.errorbar(photometry['time'], photometry['flux'], photometry['fluxerr'], fmt='k.')\n",
      "    ax.grid(True)\n",
      "    return fig"
     ],
     "language": "python",
     "metadata": {},
     "outputs": [],
     "prompt_number": 111
    },
    {
     "cell_type": "code",
     "collapsed": false,
     "input": [
      "figB = _plotPhotometry('B')"
     ],
     "language": "python",
     "metadata": {},
     "outputs": [
      {
       "metadata": {},
       "output_type": "display_data",
       "png": "[encoded data removed]",
       "text": [
        "<matplotlib.figure.Figure at 0x10bdc9dd0>"
       ]
      }
     ],
     "prompt_number": 112
    },
    {
     "cell_type": "code",
     "collapsed": false,
     "input": [
      "figV= _plotPhotometry('V')"
     ],
     "language": "python",
     "metadata": {},
     "outputs": [
      {
       "metadata": {},
       "output_type": "display_data",
       "png": "[encoded data removed]",
       "text": [
        "<matplotlib.figure.Figure at 0x10933a150>"
       ]
      }
     ],
     "prompt_number": 113
    },
    {
     "cell_type": "markdown",
     "metadata": {},
     "source": [
      "The difference in the two bands between the red (photometry files) and the blue (synthetic photometry) from the SNCosmo source\n",
      "probably shows the problems with interpolation of the spectra. In the coming days, we will check a few different things which \n",
      "we will list in a document and issues in this repository."
     ]
    },
    {
     "cell_type": "code",
     "collapsed": false,
     "input": [
      "t0"
     ],
     "language": "python",
     "metadata": {},
     "outputs": [
      {
       "metadata": {},
       "output_type": "pyout",
       "prompt_number": 78,
       "text": [
        "54478"
       ]
      }
     ],
     "prompt_number": 78
    },
    {
     "cell_type": "heading",
     "level": 2,
     "metadata": {},
     "source": [
      "Compare Spectra"
     ]
    },
    {
     "cell_type": "markdown",
     "metadata": {},
     "source": [
      "Let us look at the photometry comparison in B band a little more closely. Our first guess would be that the bivariate spline\n",
      "interpolation we used to go from the mangled spectra available at a discrete set of times (which we will refer to as the native grid of the model) to the spectra in between the times is the point of failure. \n",
      "\n",
      "This should mean that the mismatch between the photometry points and the simulated points should be small if the photometry is \n",
      "at times close to the native grid points. the failure should also be bad beyond the minimum and maximum times  corresponding to \n",
      "the native grid.\n",
      "\n",
      "- Find the set of times at which the observations were made in the B band light curve. Call this obsTimes\n",
      "- Find the set of times corresponding to the native grid of times. This should be easy to find by using the same peak that was used in the model and the redshift. call this nativeTimes\n",
      "- Show native times in the figure where we have photometry"
     ]
    },
    {
     "cell_type": "code",
     "collapsed": false,
     "input": [
      "obsTimes = photometry[photometry['band'] == 'bessellB']['time']"
     ],
     "language": "python",
     "metadata": {},
     "outputs": [],
     "prompt_number": 114
    },
    {
     "cell_type": "code",
     "collapsed": false,
     "input": [
      "nativeTimes = mysource.SNCosmoSource._phase * (1.0 + model.get('z')) + model.get('t0')"
     ],
     "language": "python",
     "metadata": {},
     "outputs": [],
     "prompt_number": 115
    },
    {
     "cell_type": "code",
     "collapsed": false,
     "input": [
      "ax = figB.axes[0]\n",
      "map(lambda x: ax.axvline(x, linestyle='dashed', color='r', lw =2.), nativeTimes)"
     ],
     "language": "python",
     "metadata": {},
     "outputs": [
      {
       "metadata": {},
       "output_type": "pyout",
       "prompt_number": 120,
       "text": [
        "[<matplotlib.lines.Line2D at 0x10b7dd790>,\n",
        " <matplotlib.lines.Line2D at 0x10b7c2090>,\n",
        " <matplotlib.lines.Line2D at 0x10b9e2dd0>,\n",
        " <matplotlib.lines.Line2D at 0x10b9e2290>,\n",
        " <matplotlib.lines.Line2D at 0x10b9e26d0>,\n",
        " <matplotlib.lines.Line2D at 0x10b9f01d0>,\n",
        " <matplotlib.lines.Line2D at 0x10b9f0850>,\n",
        " <matplotlib.lines.Line2D at 0x10b9f0f10>,\n",
        " <matplotlib.lines.Line2D at 0x10b9c1590>]"
       ]
      }
     ],
     "prompt_number": 120
    },
    {
     "cell_type": "code",
     "collapsed": false,
     "input": [
      "figB.set_size_inches(12, 8)"
     ],
     "language": "python",
     "metadata": {},
     "outputs": [],
     "prompt_number": 121
    },
    {
     "cell_type": "code",
     "collapsed": false,
     "input": [
      "ax = figB.axes[0]\n",
      "ax.set_xlim(54460,54520 )"
     ],
     "language": "python",
     "metadata": {},
     "outputs": [
      {
       "metadata": {},
       "output_type": "pyout",
       "prompt_number": 122,
       "text": [
        "(54460, 54520)"
       ]
      }
     ],
     "prompt_number": 122
    },
    {
     "cell_type": "code",
     "collapsed": false,
     "input": [
      "figB"
     ],
     "language": "python",
     "metadata": {},
     "outputs": [
      {
       "metadata": {},
       "output_type": "pyout",
       "png": "[encoded data removed]",
       "prompt_number": 123,
       "text": [
        "<matplotlib.figure.Figure at 0x10bdc9dd0>"
       ]
      }
     ],
     "prompt_number": 123
    },
    {
     "cell_type": "markdown",
     "metadata": {},
     "source": [
      "So, this is quite strange we can see that there are points with appreciable difference with the photometry even though they are\n",
      "sampled at the same times. There are two possibilities that could explain this:\n",
      "1. The t0 information is not correct. There is a way of using pre-determined peak times."
     ]
    },
    {
     "cell_type": "code",
     "collapsed": false,
     "input": [
      "mysource.data_fnames"
     ],
     "language": "python",
     "metadata": {},
     "outputs": [
      {
       "metadata": {},
       "output_type": "pyout",
       "prompt_number": 81,
       "text": [
        "array([ '/Users/rbiswas/.local/lib/python2.7/site-packages/transientSources/example_data/2007uy/cfa_2007uy/cfa_2007uy_MJD54468.dat',\n",
        "       '/Users/rbiswas/.local/lib/python2.7/site-packages/transientSources/example_data/2007uy/cfa_2007uy/cfa_2007uy_MJD54470.dat',\n",
        "       '/Users/rbiswas/.local/lib/python2.7/site-packages/transientSources/example_data/2007uy/cfa_2007uy/cfa_2007uy_MJD54478.dat',\n",
        "       '/Users/rbiswas/.local/lib/python2.7/site-packages/transientSources/example_data/2007uy/cfa_2007uy/cfa_2007uy_MJD54527.dat',\n",
        "       '/Users/rbiswas/.local/lib/python2.7/site-packages/transientSources/example_data/2007uy/cfa_2007uy/cfa_2007uy_MJD54557.dat',\n",
        "       '/Users/rbiswas/.local/lib/python2.7/site-packages/transientSources/example_data/2007uy/cfa_2007uy/cfa_2007uy_MJD54475.dat',\n",
        "       '/Users/rbiswas/.local/lib/python2.7/site-packages/transientSources/example_data/2007uy/cfa_2007uy/cfa_2007uy_MJD54476.dat',\n",
        "       '/Users/rbiswas/.local/lib/python2.7/site-packages/transientSources/example_data/2007uy/cfa_2007uy/cfa_2007uy_MJD54494.dat',\n",
        "       '/Users/rbiswas/.local/lib/python2.7/site-packages/transientSources/example_data/2007uy/cfa_2007uy/cfa_2007uy_MJD54536.dat'], \n",
        "      dtype='|S121')"
       ]
      }
     ],
     "prompt_number": 81
    },
    {
     "cell_type": "code",
     "collapsed": false,
     "input": [
      "_data = np.loadtxt(mysource.mangled_fnames[0], skiprows=2)\n",
      "\n",
      "plt.plot(_data[:, 0], _data[:, 1])\n",
      "plt.plot(mysource.mangled_spectra[0][:, 0], mysource.mangled_spectra[0][:, 1])\n",
      "_wave = mysource.SNCosmoSource._wave\n",
      "_phase = mysource.SNCosmoSource._phase\n",
      "plt.plot(_wave, mysource.SNCosmoSource.flux(phase=_phase[0], wave=_wave))"
     ],
     "language": "python",
     "metadata": {},
     "outputs": []
    },
    {
     "cell_type": "code",
     "collapsed": false,
     "input": [
      "plt.plot(_wave, mysource.SNCosmoSource.flux(phase=_phase[0], wave=_wave) / mysource.mangled_spectra[0][:, 1], 'o')\n",
      "plt.ylim(, 2.)"
     ],
     "language": "python",
     "metadata": {},
     "outputs": []
    },
    {
     "cell_type": "code",
     "collapsed": false,
     "input": [
      "plt.plot(_wave, mysource.SNCosmoSource.flux(phase=_phase[0], wave=_wave))"
     ],
     "language": "python",
     "metadata": {},
     "outputs": []
    },
    {
     "cell_type": "code",
     "collapsed": false,
     "input": [
      "mysource.SNCosmoSource._wave, mysource.SNCosmoSource.flux()"
     ],
     "language": "python",
     "metadata": {},
     "outputs": []
    },
    {
     "cell_type": "code",
     "collapsed": false,
     "input": [
      "mysource.mangled_spectra"
     ],
     "language": "python",
     "metadata": {},
     "outputs": []
    },
    {
     "cell_type": "code",
     "collapsed": false,
     "input": [],
     "language": "python",
     "metadata": {},
     "outputs": []
    }
   ],
   "metadata": {}
  }
 ]
}